{
 "cells": [
  {
   "cell_type": "code",
   "execution_count": null,
   "metadata": {},
   "outputs": [],
   "source": [
    "import yfinance as yf\n",
    "import pandas as pd\n",
    "import numpy as np\n",
    "import matplotlib.pyplot as plt\n",
    "\n",
    "# ---- user parameters -------------------------------------------------------\n",
    "tickers = {\n",
    "    'Energy':'XLE','Materials':'XLB','Capital Goods':'IYJ',\n",
    "    'Comm & Prof Svcs':'XLI','Transportation':'IYT',\n",
    "    'Autos & Components':'CARZ','Cons Durables & Apparel':'IBUY',\n",
    "    'Consumer Services':'PEJ','Retailing':'XRT',\n",
    "    'Food & Staples Retail':'XLP','Food/Beverage/Tobacco':'PBJ',\n",
    "    'Household & Pers Prod':'IYK','HC Equip & Svcs':'IHI',\n",
    "    'Pharma / Biotech':'XPH','Banks':'KBE',\n",
    "    'Diversified Financials':'IYF','Insurance':'KIE',\n",
    "    'Real Estate':'XLRE','Software & Svcs':'IGV',\n",
    "    'Tech Hardware & Equip':'IYW','Semis & Equip':'SOXX',\n",
    "    'Telecom Svcs':'IYZ','Media & Entertainment':'PBS',\n",
    "    'Utilities':'XLU'\n",
    "}\n",
    "start  = \"2023-04-20\"   # 1-yr look-back\n",
    "end    = \"2025-05-20\"\n",
    "# ---------------------------------------------------------------------------\n",
    "\n",
    "# download Adj Close prices\n",
    "assets = yf.download(list(tickers.values()), start=start, end=end)\n",
    "\n",
    "assets_cols = set(assets.columns.get_level_values(0))\n",
    "print(f\"Available columns in yf assets: {assets_cols}\")\n",
    "\n",
    "asset_close = assets['Close']\n",
    "asset_close.columns = tickers.keys()"
   ]
  },
  {
   "cell_type": "code",
   "execution_count": null,
   "metadata": {},
   "outputs": [],
   "source": [
    "pct_returns = assets['Close'].pct_change().apply(lambda x: np.log1p(x)).dropna()"
   ]
  },
  {
   "cell_type": "code",
   "execution_count": null,
   "metadata": {},
   "outputs": [],
   "source": [
    "ticker_to_sector = {v: k for k, v in tickers.items()}"
   ]
  },
  {
   "cell_type": "code",
   "execution_count": null,
   "metadata": {},
   "outputs": [],
   "source": [
    "sorted_return_stds = pct_returns.std().sort_values(ascending=False)\n",
    "labels = []\n",
    "stds = []\n",
    "for ticker, std in sorted_return_stds.items():\n",
    "    labels.append(f\"{ticker_to_sector[ticker]} [{ticker}]\")\n",
    "    stds.append(std)"
   ]
  },
  {
   "cell_type": "code",
   "execution_count": null,
   "metadata": {},
   "outputs": [],
   "source": [
    "pct_summary = pct_returns.describe()"
   ]
  },
  {
   "cell_type": "code",
   "execution_count": null,
   "metadata": {},
   "outputs": [],
   "source": [
    "pct_returns.columns = labels"
   ]
  },
  {
   "cell_type": "code",
   "execution_count": null,
   "metadata": {},
   "outputs": [],
   "source": [
    "pct_returns.boxplot(showfliers=False)\n",
    "plt.xticks(rotation=45, ha='right')"
   ]
  },
  {
   "cell_type": "code",
   "execution_count": null,
   "metadata": {},
   "outputs": [],
   "source": [
    "pct_returns['XLE'].hist(bins=50)"
   ]
  },
  {
   "cell_type": "code",
   "execution_count": null,
   "metadata": {},
   "outputs": [],
   "source": [
    "plt.figure(figsize=(15,5))\n",
    "plt.bar(range(len(stds)), stds)\n",
    "plt.ylabel(\"Std. Dev. of Percent Changes\")\n",
    "plt.xticks(range(len(stds)), labels, rotation=45, ha='right')"
   ]
  },
  {
   "cell_type": "code",
   "execution_count": null,
   "metadata": {},
   "outputs": [],
   "source": []
  },
  {
   "cell_type": "code",
   "execution_count": null,
   "metadata": {},
   "outputs": [],
   "source": []
  }
 ],
 "metadata": {
  "kernelspec": {
   "display_name": ".venv",
   "language": "python",
   "name": "python3"
  },
  "language_info": {
   "codemirror_mode": {
    "name": "ipython",
    "version": 3
   },
   "file_extension": ".py",
   "mimetype": "text/x-python",
   "name": "python",
   "nbconvert_exporter": "python",
   "pygments_lexer": "ipython3",
   "version": "3.13.3"
  }
 },
 "nbformat": 4,
 "nbformat_minor": 2
}
