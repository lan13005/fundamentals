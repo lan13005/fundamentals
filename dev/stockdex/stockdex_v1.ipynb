{
 "cells": [
  {
   "cell_type": "code",
   "execution_count": null,
   "id": "0",
   "metadata": {},
   "outputs": [],
   "source": [
    "from datetime import datetime\n",
    "\n",
    "import pandas as pd\n",
    "from stockdex import Ticker"
   ]
  },
  {
   "cell_type": "code",
   "execution_count": null,
   "id": "1",
   "metadata": {},
   "outputs": [],
   "source": [
    "ticker = Ticker(ticker=\"AAPL\")"
   ]
  },
  {
   "cell_type": "code",
   "execution_count": null,
   "id": "2",
   "metadata": {
    "lines_to_next_cell": 1
   },
   "outputs": [],
   "source": [
    "# Function to safely convert and clean numeric string data\n",
    "def safe_numeric_conversion(series):\n",
    "    return pd.to_numeric(\n",
    "        series.astype(str)\n",
    "        .str.replace(\"M\", \"e6\")\n",
    "        .str.replace(\"B\", \"e9\")\n",
    "        .str.replace(\"T\", \"e12\")\n",
    "        .str.replace(\"$\", \"\")\n",
    "        .str.replace(\",\", \"\")\n",
    "        .str.replace(\"%\", \"\")\n",
    "        .str.replace(\"--\", \"nan\")\n",
    "        .str.strip(),\n",
    "        errors=\"coerce\",\n",
    "    )"
   ]
  },
  {
   "cell_type": "markdown",
   "id": "3",
   "metadata": {},
   "source": [
    "# Get dataframes"
   ]
  },
  {
   "cell_type": "code",
   "execution_count": null,
   "id": "4",
   "metadata": {},
   "outputs": [],
   "source": [
    "ticker.macrotrends_key_financial_ratios"
   ]
  },
  {
   "cell_type": "code",
   "execution_count": null,
   "id": "5",
   "metadata": {},
   "outputs": [],
   "source": [
    "type(ticker)"
   ]
  },
  {
   "cell_type": "code",
   "execution_count": null,
   "id": "6",
   "metadata": {},
   "outputs": [],
   "source": [
    "f\"https://www.macrotrends.net/stocks/charts/AAPL/TBD/income-statement\""
   ]
  },
  {
   "cell_type": "code",
   "execution_count": null,
   "id": "7",
   "metadata": {},
   "outputs": [],
   "source": [
    "## Yahoo API + Web scraped\n",
    "_yahoo_api_price_data = ticker.yahoo_api_price(range=\"1y\", dataGranularity=\"1d\")\n",
    "_yahoo_web_summary = ticker.yahoo_web_summary\n",
    "_yahoo_api_income_statement_quarterly = ticker.yahoo_api_income_statement(frequency=\"quarterly\")\n",
    "_yahoo_api_cash_flow = ticker.yahoo_api_cash_flow(format=\"raw\")\n",
    "_yahoo_api_balance_sheet = ticker.yahoo_api_balance_sheet(period1=datetime(2019, 1, 1))\n",
    "_yahoo_api_financials = ticker.yahoo_api_financials(period1=datetime(2022, 1, 1), period2=datetime.today())\n",
    "_yahoo_web_income_statement = ticker.yahoo_web_income_stmt\n",
    "_yahoo_web_balance_sheet = ticker.yahoo_web_balance_sheet\n",
    "_yahoo_web_cashflow = ticker.yahoo_web_cashflow\n",
    "_yahoo_web_valuation_measures = ticker.yahoo_web_valuation_measures\n",
    "_yahoo_web_major_holders = ticker.yahoo_web_major_holders\n",
    "_yahoo_web_trading_information = ticker.yahoo_web_trading_information\n",
    "_digrin_payout_ratio = ticker.digrin_payout_ratio\n",
    "\n",
    "## Dirgin dataframes\n",
    "_digrin_dividend_data = ticker.digrin_dividend\n",
    "_digrin_price = ticker.digrin_price\n",
    "_digrin_assets_vs_liabilities = ticker.digrin_assets_vs_liabilities\n",
    "_digrin_free_cash_flow = ticker.digrin_free_cash_flow\n",
    "_digrin_net_income = ticker.digrin_net_income\n",
    "_digrin_cash_and_debt = ticker.digrin_cash_and_debt\n",
    "_digrin_shares_outstanding = ticker.digrin_shares_outstanding\n",
    "_digrin_expenses = ticker.digrin_expenses\n",
    "_digrin_cost_of_revenue = ticker.digrin_cost_of_revenue\n",
    "_digrin_upcoming_estimated_earnings = ticker.digrin_upcoming_estimated_earnings\n",
    "_digrin_dgr3 = ticker.digrin_dgr3\n",
    "_digrin_dgr5 = ticker.digrin_dgr5\n",
    "_digrin_dgr10 = ticker.digrin_dgr10\n",
    "\n",
    "## Macrotrends (these are scraped so requests can be slow)\n",
    "_macrotrends_income_statement = ticker.macrotrends_income_statement\n",
    "_macrotrends_balance_sheet = ticker.macrotrends_balance_sheet\n",
    "_macrotrends_cash_flow = ticker.macrotrends_cash_flow\n",
    "_macrotrends_gross_margin = ticker.macrotrends_gross_margin\n",
    "_macrotrends_operating_margin = ticker.macrotrends_operating_margin\n",
    "_macrotrends_ebitda_margin = ticker.macrotrends_ebitda_margin\n",
    "_macrotrends_net_margin = ticker.macrotrends_net_margin\n"
   ]
  },
  {
   "cell_type": "markdown",
   "id": "8",
   "metadata": {},
   "source": [
    "# Apply safe conversion to all relevant dataframes\n"
   ]
  },
  {
   "cell_type": "code",
   "execution_count": null,
   "id": "9",
   "metadata": {},
   "outputs": [],
   "source": [
    "# Yahoo API Price Data\n",
    "yahoo_api_price_data = _yahoo_api_price_data.copy()\n",
    "# Yahoo Web Major Holders\n",
    "yahoo_web_major_holders = _yahoo_web_major_holders.copy()\n",
    "# Yahoo API Income Statement (Quarterly) - columns already numeric, need to strip the index strings if converting them\n",
    "yahoo_api_income_statement_quarterly = _yahoo_api_income_statement_quarterly.copy()\n",
    "yahoo_api_income_statement_quarterly.columns = [\n",
    "    col.replace(\"quarterly\", \"\") for col in yahoo_api_income_statement_quarterly.columns\n",
    "]\n",
    "# Yahoo API Cash Flow\n",
    "yahoo_api_cash_flow = _yahoo_api_cash_flow.copy()\n",
    "yahoo_api_cash_flow.columns = [col.replace(\"annual\", \"\") for col in yahoo_api_cash_flow.columns]\n",
    "yahoo_api_cash_flow = yahoo_api_cash_flow.apply(safe_numeric_conversion)\n",
    "# Yahoo API Balance Sheet\n",
    "yahoo_api_balance_sheet = _yahoo_api_balance_sheet.copy()\n",
    "yahoo_api_balance_sheet.columns = [col.replace(\"annual\", \"\") for col in yahoo_api_balance_sheet.columns]\n",
    "yahoo_api_balance_sheet = yahoo_api_balance_sheet.apply(safe_numeric_conversion)\n",
    "# Yahoo API Financials\n",
    "yahoo_api_financials = _yahoo_api_financials.copy()\n",
    "yahoo_api_financials.columns = [col.replace(\"annual\", \"\") for col in yahoo_api_financials.columns]\n",
    "yahoo_api_financials = yahoo_api_financials.apply(safe_numeric_conversion)\n",
    "# Yahoo Web Summary (specific columns)\n",
    "yahoo_web_summary = _yahoo_web_summary.copy()\n",
    "for col in [0]:\n",
    "    if col in yahoo_web_summary.columns:\n",
    "        yahoo_web_summary.loc[\n",
    "            [\"marketCap\", \"trailingPE\", \"targetMeanPrice\", \"regularMarketPrice\", \"regularMarketChange\"], col\n",
    "        ] = safe_numeric_conversion(\n",
    "            yahoo_web_summary.loc[\n",
    "                [\"marketCap\", \"trailingPE\", \"targetMeanPrice\", \"regularMarketPrice\", \"regularMarketChange\"], col\n",
    "            ]\n",
    "        )\n",
    "        yahoo_web_summary.loc[[\"regularMarketVolume\", \"averageVolume\"], col] = safe_numeric_conversion(\n",
    "            yahoo_web_summary.loc[[\"regularMarketVolume\", \"averageVolume\"], col]\n",
    "        )\n",
    "        # yahoo_web_summary.loc[\"regularMarketChangePercent\", col] = (\n",
    "        #     safe_numeric_conversion(yahoo_web_summary.loc[\"regularMarketChangePercent\", col]) / 100\n",
    "        # )\n",
    "# Yahoo Web Income Statement\n",
    "yahoo_web_income_statement = _yahoo_web_income_statement.apply(safe_numeric_conversion)\n",
    "# Yahoo Web Balance Sheet\n",
    "yahoo_web_balance_sheet = _yahoo_web_balance_sheet.apply(safe_numeric_conversion)\n",
    "# Yahoo Web Cashflow\n",
    "yahoo_web_cashflow = _yahoo_web_cashflow.apply(safe_numeric_conversion)\n",
    "# Yahoo Web Valuation Measures\n",
    "yahoo_web_valuation_measures = _yahoo_web_valuation_measures.apply(safe_numeric_conversion)\n",
    "# Yahoo Web Trading Information\n",
    "yahoo_web_trading_information = _yahoo_web_trading_information.apply(safe_numeric_conversion)"
   ]
  },
  {
   "cell_type": "code",
   "execution_count": null,
   "id": "10",
   "metadata": {},
   "outputs": [],
   "source": [
    "# Macrotrends Income Statement\n",
    "macrotrends_income_statement = _macrotrends_income_statement.apply(safe_numeric_conversion)\n",
    "# Macrotrends Balance Sheet\n",
    "macrotrends_balance_sheet = _macrotrends_balance_sheet.apply(safe_numeric_conversion)\n",
    "# Macrotrends Cash Flow\n",
    "macrotrends_cash_flow = _macrotrends_cash_flow.apply(safe_numeric_conversion)\n",
    "\n",
    "# Macrotrends Margin dataframes\n",
    "macrotrends_gross_margin = _macrotrends_gross_margin.copy()\n",
    "macrotrends_operating_margin = _macrotrends_operating_margin.copy()\n",
    "macrotrends_ebitda_margin = _macrotrends_ebitda_margin.copy()\n",
    "macrotrends_net_margin = _macrotrends_net_margin.copy()\n",
    "for df in [macrotrends_gross_margin, macrotrends_operating_margin, macrotrends_ebitda_margin, macrotrends_net_margin]:\n",
    "    df[\"TTM Revenue\"] = safe_numeric_conversion(df[\"TTM Revenue\"])\n",
    "    df[df.columns[2]] = safe_numeric_conversion(\n",
    "        df[df.columns[2]]\n",
    "    )  # TTM Gross Profit/Operating Income/EBITDA/Net Income\n",
    "    df[df.columns[3]] = safe_numeric_conversion(df[df.columns[3]]) / 100  # Margin"
   ]
  },
  {
   "cell_type": "code",
   "execution_count": null,
   "id": "11",
   "metadata": {},
   "outputs": [],
   "source": [
    "macrotrends_income_statement"
   ]
  },
  {
   "cell_type": "code",
   "execution_count": null,
   "id": "12",
   "metadata": {},
   "outputs": [],
   "source": [
    "## Dirgin only contains 4 quarters of data\n",
    "\n",
    "# # Digrin Dividend Data\n",
    "# digrin_dividend_data = _digrin_dividend_data.copy()\n",
    "# for col in [\"Dividend amount (change)\", \"Adjusted Price\", \"Close Price\"]:\n",
    "#     digrin_dividend_data[col] = safe_numeric_conversion(digrin_dividend_data[col].astype(str).str.split(\" \").str[0])\n",
    "# # Digrin Payout Ratio\n",
    "# digrin_payout_ratio = _digrin_payout_ratio.copy()\n",
    "# digrin_payout_ratio[\"Payout ratio\"] = safe_numeric_conversion(digrin_payout_ratio[\"Payout ratio\"]) / 100\n",
    "# digrin_payout_ratio[\"PE ratio\"] = safe_numeric_conversion(digrin_payout_ratio[\"PE ratio\"])\n",
    "# # Digrin DGR dataframes\n",
    "# digrin_dgr3 = _digrin_dgr3.copy()\n",
    "# digrin_dgr5 = _digrin_dgr5.copy()\n",
    "# digrin_dgr10 = _digrin_dgr10.copy()\n",
    "# for df in [digrin_dgr3, digrin_dgr5, digrin_dgr10]:\n",
    "#     df[\"Dividend\"] = safe_numeric_conversion(df[\"Dividend\"])\n",
    "#     df[\"Estimated Yield on Cost\"] = safe_numeric_conversion(df[\"Estimated Yield on Cost\"]) / 100\n",
    "\n",
    "# Digrin Price\n",
    "# digrin_price = _digrin_price.copy()\n",
    "# for col in [\"Adjusted price\", \"Real price\"]:\n",
    "#     digrin_price[col] = safe_numeric_conversion(digrin_price[col])\n",
    "# # Digrin Assets vs Liabilities\n",
    "# digrin_assets_vs_liabilities = _digrin_assets_vs_liabilities.apply(safe_numeric_conversion)\n",
    "# # Digrin Free Cash Flow\n",
    "# digrin_free_cash_flow = _digrin_free_cash_flow.apply(safe_numeric_conversion)\n",
    "# # Digrin Net Income\n",
    "# digrin_net_income = _digrin_net_income.apply(safe_numeric_conversion)\n",
    "# # Digrin Cash and Debt\n",
    "# digrin_cash_and_debt = _digrin_cash_and_debt.apply(safe_numeric_conversion)\n",
    "# # Digrin Shares Outstanding\n",
    "# digrin_shares_outstanding = _digrin_shares_outstanding.apply(safe_numeric_conversion)\n",
    "# # Digrin Expenses\n",
    "# digrin_expenses = _digrin_expenses.apply(safe_numeric_conversion)\n",
    "\n",
    "# # Digrin Cost of Revenue\n",
    "# # More important variable is the Gross Profit Margin (Revenue - Cost of Revenue) / Revenue\n",
    "# digrin_cost_of_revenue = _digrin_cost_of_revenue.apply(safe_numeric_conversion)"
   ]
  },
  {
   "cell_type": "code",
   "execution_count": null,
   "id": "13",
   "metadata": {},
   "outputs": [],
   "source": [
    "print(\"--- Profitability & Economic Moat ---\")\n",
    "\n",
    "print(\"\\nreturnOnEquity:\")\n",
    "# Calculation using Macrotrends Income Statement and Balance Sheet\n",
    "# Latest available year for Macrotrends Income Statement is '2024-09-30'\n",
    "# Latest available year for Macrotrends Balance Sheet is '2024-09-30'\n",
    "net_income_macro_2024 = macrotrends_income_statement.loc[\"Net Income\", \"2024-09-30\"]\n",
    "share_holder_equity_macro_2024 = macrotrends_balance_sheet.loc[\"Share Holder Equity\", \"2024-09-30\"]\n",
    "if (\n",
    "    not pd.isna(net_income_macro_2024)\n",
    "    and not pd.isna(share_holder_equity_macro_2024)\n",
    "    and share_holder_equity_macro_2024 != 0\n",
    "):\n",
    "    print(f\"Macrotrends (2024-09-30): {net_income_macro_2024 / share_holder_equity_macro_2024:.4f}\")\n",
    "else:\n",
    "    print(\"Macrotrends (2024-09-30): Data not available for calculation.\")"
   ]
  },
  {
   "cell_type": "code",
   "execution_count": null,
   "id": "14",
   "metadata": {},
   "outputs": [],
   "source": [
    "\n",
    "# Calculation using Yahoo Web Income Statement and Yahoo Web Balance Sheet\n",
    "net_income_web_2024 = yahoo_web_income_statement.loc[\"Net Income Common Stockholders\", \"9/30/2024\"]\n",
    "total_equity_web_2024 = yahoo_web_balance_sheet.loc[\"Total Equity Gross Minority Interest\", \"9/30/2024\"]\n",
    "if not pd.isna(net_income_web_2024) and not pd.isna(total_equity_web_2024) and total_equity_web_2024 != 0:\n",
    "    print(f\"Yahoo Web (9/30/2024): {net_income_web_2024 / total_equity_web_2024:.4f}\")\n",
    "else:\n",
    "    print(\"Yahoo Web (9/30/2024): Data not available for calculation.\")"
   ]
  },
  {
   "cell_type": "code",
   "execution_count": null,
   "id": "15",
   "metadata": {},
   "outputs": [],
   "source": [
    "\n",
    "# Calculation using Yahoo API Financials and Yahoo API Balance Sheet\n",
    "net_income_api_2023 = yahoo_api_financials.loc[\"2023-09-30\", \"NetIncomeCommonStockholders\"]\n",
    "stockholders_equity_api_2023 = yahoo_api_balance_sheet.loc[\"2023-09-30\", \"StockholdersEquity\"]\n",
    "if not pd.isna(net_income_api_2023) and not pd.isna(stockholders_equity_api_2023) and stockholders_equity_api_2023 != 0:\n",
    "    print(f\"Yahoo API (2023-09-30): {net_income_api_2023 / stockholders_equity_api_2023:.4f}\")\n",
    "else:\n",
    "    print(\"Yahoo API (2023-09-30): Data not available for calculation.\")"
   ]
  },
  {
   "cell_type": "code",
   "execution_count": null,
   "id": "16",
   "metadata": {},
   "outputs": [],
   "source": [
    "\n",
    "print(\"\\nreturnOnAssets:\")\n",
    "\n",
    "# Calculation using Macrotrends Income Statement and Balance Sheet\n",
    "net_income_macro_2024 = macrotrends_income_statement.loc[\"Net Income\", \"2024-09-30\"]\n",
    "total_assets_macro_2024 = macrotrends_balance_sheet.loc[\"Total Assets\", \"2024-09-30\"]\n",
    "if not pd.isna(net_income_macro_2024) and not pd.isna(total_assets_macro_2024) and total_assets_macro_2024 != 0:\n",
    "    print(f\"Macrotrends (2024-09-30): {net_income_macro_2024 / total_assets_macro_2024:.4f}\")\n",
    "else:\n",
    "    print(\"Macrotrends (2024-09-30): Data not available for calculation.\")"
   ]
  },
  {
   "cell_type": "code",
   "execution_count": null,
   "id": "17",
   "metadata": {},
   "outputs": [],
   "source": [
    "\n",
    "# Calculation using Yahoo Web Income Statement and Yahoo Web Balance Sheet\n",
    "net_income_web_2024 = yahoo_web_income_statement.loc[\"Net Income Common Stockholders\", \"9/30/2024\"]\n",
    "total_assets_web_2024 = yahoo_web_balance_sheet.loc[\"Total Assets\", \"9/30/2024\"]\n",
    "if not pd.isna(net_income_web_2024) and not pd.isna(total_assets_web_2024) and total_assets_web_2024 != 0:\n",
    "    print(f\"Yahoo Web (9/30/2024): {net_income_web_2024 / total_assets_web_2024:.4f}\")\n",
    "else:\n",
    "    print(\"Yahoo Web (9/30/2024): Data not available for calculation.\")"
   ]
  },
  {
   "cell_type": "code",
   "execution_count": null,
   "id": "18",
   "metadata": {},
   "outputs": [],
   "source": [
    "\n",
    "# Calculation using Yahoo API Financials and Yahoo API Balance Sheet\n",
    "net_income_api_2023 = yahoo_api_financials.loc[\"2023-09-30\", \"NetIncomeCommonStockholders\"]\n",
    "total_assets_api_2023 = yahoo_api_balance_sheet.loc[\"2023-09-30\", \"TotalAssets\"]\n",
    "if not pd.isna(net_income_api_2023) and not pd.isna(total_assets_api_2023) and total_assets_api_2023 != 0:\n",
    "    print(f\"Yahoo API (2023-09-30): {net_income_api_2023 / total_assets_api_2023:.4f}\")\n",
    "else:\n",
    "    print(\"Yahoo API (2023-09-30): Data not available for calculation.\")"
   ]
  },
  {
   "cell_type": "code",
   "execution_count": null,
   "id": "19",
   "metadata": {},
   "outputs": [],
   "source": [
    "\n",
    "print(\"\\noperatingMargins:\")\n",
    "# From Macrotrends Operating Margin\n",
    "if not macrotrends_operating_margin.empty:\n",
    "    print(\n",
    "        f\"Macrotrends Operating Margin (latest): {macrotrends_operating_margin.loc[macrotrends_operating_margin.index[-1], 'Operating Margin']:.4f}\"\n",
    "    )\n",
    "else:\n",
    "    print(\"Macrotrends Operating Margin: Data not available.\")"
   ]
  },
  {
   "cell_type": "code",
   "execution_count": null,
   "id": "20",
   "metadata": {},
   "outputs": [],
   "source": [
    "\n",
    "# Calculation using Macrotrends Income Statement\n",
    "operating_income_macro_2024 = macrotrends_income_statement.loc[\"Operating Income\", \"2024-09-30\"]\n",
    "revenue_macro_2024 = macrotrends_income_statement.loc[\"Revenue\", \"2024-09-30\"]\n",
    "if not pd.isna(operating_income_macro_2024) and not pd.isna(revenue_macro_2024) and revenue_macro_2024 != 0:\n",
    "    print(f\"Macrotrends (2024-09-30) calculated: {operating_income_macro_2024 / revenue_macro_2024:.4f}\")\n",
    "else:\n",
    "    print(\"Macrotrends (2024-09-30) calculated: Data not available for calculation.\")"
   ]
  },
  {
   "cell_type": "code",
   "execution_count": null,
   "id": "21",
   "metadata": {},
   "outputs": [],
   "source": [
    "\n",
    "# Calculation using Yahoo Web Income Statement\n",
    "operating_income_web_2024 = yahoo_web_income_statement.loc[\"Operating Income\", \"9/30/2024\"]\n",
    "total_revenue_web_2024 = yahoo_web_income_statement.loc[\"Total Revenue\", \"9/30/2024\"]\n",
    "if not pd.isna(operating_income_web_2024) and not pd.isna(total_revenue_web_2024) and total_revenue_web_2024 != 0:\n",
    "    print(f\"Yahoo Web (9/30/2024) calculated: {operating_income_web_2024 / total_revenue_web_2024:.4f}\")\n",
    "else:\n",
    "    print(\"Yahoo Web (9/30/2024) calculated: Data not available for calculation.\")"
   ]
  },
  {
   "cell_type": "code",
   "execution_count": null,
   "id": "22",
   "metadata": {},
   "outputs": [],
   "source": [
    "\n",
    "# Using Yahoo API Income Statement (Quarterly)\n",
    "operating_income_api_q3_2024 = yahoo_api_income_statement_quarterly.loc[\"2024-09-30\", \"OperatingIncome\"]\n",
    "total_revenue_api_q3_2024 = yahoo_api_income_statement_quarterly.loc[\"2024-09-30\", \"TotalRevenue\"]\n",
    "if (\n",
    "    not pd.isna(operating_income_api_q3_2024)\n",
    "    and not pd.isna(total_revenue_api_q3_2024)\n",
    "    and total_revenue_api_q3_2024 != 0\n",
    "):\n",
    "    print(\n",
    "        f\"Yahoo API Quarterly (2024-09-30) calculated: {operating_income_api_q3_2024 / total_revenue_api_q3_2024:.4f}\"\n",
    "    )\n",
    "else:\n",
    "    print(\"Yahoo API Quarterly (2024-09-30) calculated: Data not available for calculation.\")"
   ]
  },
  {
   "cell_type": "code",
   "execution_count": null,
   "id": "23",
   "metadata": {},
   "outputs": [],
   "source": [
    "\n",
    "# Using Yahoo API Financials\n",
    "operating_income_api_2023 = yahoo_api_financials.loc[\"2023-09-30\", \"OperatingIncome\"]\n",
    "total_revenue_api_2023 = yahoo_api_financials.loc[\"2023-09-30\", \"TotalRevenue\"]\n",
    "if not pd.isna(operating_income_api_2023) and not pd.isna(total_revenue_api_2023) and total_revenue_api_2023 != 0:\n",
    "    print(f\"Yahoo API Financials (2023-09-30) calculated: {operating_income_api_2023 / total_revenue_api_2023:.4f}\")\n",
    "else:\n",
    "    print(\"Yahoo API Financials (2023-09-30) calculated: Data not available for calculation.\")"
   ]
  },
  {
   "cell_type": "code",
   "execution_count": null,
   "id": "24",
   "metadata": {},
   "outputs": [],
   "source": [
    "\n",
    "print(\"\\nebitdaMargins:\")\n",
    "# From Macrotrends EBITDA Margin\n",
    "if not macrotrends_ebitda_margin.empty:\n",
    "    print(\n",
    "        f\"Macrotrends EBITDA Margin (latest): {macrotrends_ebitda_margin.loc[macrotrends_ebitda_margin.index[-1], 'EBITDA Margin']:.4f}\"\n",
    "    )\n",
    "else:\n",
    "    print(\"Macrotrends EBITDA Margin: Data not available.\")"
   ]
  },
  {
   "cell_type": "code",
   "execution_count": null,
   "id": "25",
   "metadata": {},
   "outputs": [],
   "source": [
    "\n",
    "# Calculation using Macrotrends Income Statement\n",
    "ebitda_macro_2024 = macrotrends_income_statement.loc[\"EBITDA\", \"2024-09-30\"]\n",
    "revenue_macro_2024 = macrotrends_income_statement.loc[\"Revenue\", \"2024-09-30\"]\n",
    "if not pd.isna(ebitda_macro_2024) and not pd.isna(revenue_macro_2024) and revenue_macro_2024 != 0:\n",
    "    print(f\"Macrotrends (2024-09-30) calculated: {ebitda_macro_2024 / revenue_macro_2024:.4f}\")\n",
    "else:\n",
    "    print(\"Macrotrends (2024-09-30) calculated: Data not available for calculation.\")"
   ]
  },
  {
   "cell_type": "code",
   "execution_count": null,
   "id": "26",
   "metadata": {},
   "outputs": [],
   "source": [
    "\n",
    "# Calculation using Yahoo Web Income Statement\n",
    "ebitda_web_2024 = yahoo_web_income_statement.loc[\"EBITDA\", \"9/30/2024\"]\n",
    "total_revenue_web_2024 = yahoo_web_income_statement.loc[\"Total Revenue\", \"9/30/2024\"]\n",
    "if not pd.isna(ebitda_web_2024) and not pd.isna(total_revenue_web_2024) and total_revenue_web_2024 != 0:\n",
    "    print(f\"Yahoo Web (9/30/2024) calculated: {ebitda_web_2024 / total_revenue_web_2024:.4f}\")\n",
    "else:\n",
    "    print(\"Yahoo Web (9/30/2024) calculated: Data not available for calculation.\")"
   ]
  },
  {
   "cell_type": "code",
   "execution_count": null,
   "id": "27",
   "metadata": {},
   "outputs": [],
   "source": [
    "\n",
    "# Using Yahoo API Income Statement (Quarterly)\n",
    "ebitda_api_q3_2024 = yahoo_api_income_statement_quarterly.loc[\"2024-09-30\", \"EBITDA\"]\n",
    "total_revenue_api_q3_2024 = yahoo_api_income_statement_quarterly.loc[\"2024-09-30\", \"TotalRevenue\"]\n",
    "if not pd.isna(ebitda_api_q3_2024) and not pd.isna(total_revenue_api_q3_2024) and total_revenue_api_q3_2024 != 0:\n",
    "    print(f\"Yahoo API Quarterly (2024-09-30) calculated: {ebitda_api_q3_2024 / total_revenue_api_q3_2024:.4f}\")\n",
    "else:\n",
    "    print(\"Yahoo API Quarterly (2024-09-30) calculated: Data not available for calculation.\")"
   ]
  },
  {
   "cell_type": "code",
   "execution_count": null,
   "id": "28",
   "metadata": {},
   "outputs": [],
   "source": [
    "\n",
    "# Using Yahoo API Financials\n",
    "ebitda_api_2023 = yahoo_api_financials.loc[\"2023-09-30\", \"EBITDA\"]\n",
    "total_revenue_api_2023 = yahoo_api_financials.loc[\"2023-09-30\", \"TotalRevenue\"]\n",
    "if not pd.isna(ebitda_api_2023) and not pd.isna(total_revenue_api_2023) and total_revenue_api_2023 != 0:\n",
    "    print(f\"Yahoo API Financials (2023-09-30) calculated: {ebitda_api_2023 / total_revenue_api_2023:.4f}\")\n",
    "else:\n",
    "    print(\"Yahoo API Financials (2023-09-30) calculated: Data not available for calculation.\")"
   ]
  },
  {
   "cell_type": "code",
   "execution_count": null,
   "id": "29",
   "metadata": {},
   "outputs": [],
   "source": [
    "\n",
    "print(\"\\ngrossMargins:\")\n",
    "# From Macrotrends Gross Margin\n",
    "if not macrotrends_gross_margin.empty:\n",
    "    print(\n",
    "        f\"Macrotrends Gross Margin (latest): {macrotrends_gross_margin.loc[macrotrends_gross_margin.index[-1], 'Gross Margin']:.4f}\"\n",
    "    )\n",
    "else:\n",
    "    print(\"Macrotrends Gross Margin: Data not available.\")"
   ]
  },
  {
   "cell_type": "code",
   "execution_count": null,
   "id": "30",
   "metadata": {},
   "outputs": [],
   "source": [
    "\n",
    "# Calculation using Macrotrends Income Statement\n",
    "gross_profit_macro_2024 = macrotrends_income_statement.loc[\"Gross Profit\", \"2024-09-30\"]\n",
    "revenue_macro_2024 = macrotrends_income_statement.loc[\"Revenue\", \"2024-09-30\"]\n",
    "if not pd.isna(gross_profit_macro_2024) and not pd.isna(revenue_macro_2024) and revenue_macro_2024 != 0:\n",
    "    print(f\"Macrotrends (2024-09-30) calculated: {gross_profit_macro_2024 / revenue_macro_2024:.4f}\")\n",
    "else:\n",
    "    print(\"Macrotrends (2024-09-30) calculated: Data not available for calculation.\")"
   ]
  },
  {
   "cell_type": "code",
   "execution_count": null,
   "id": "31",
   "metadata": {},
   "outputs": [],
   "source": [
    "\n",
    "# Calculation using Yahoo Web Income Statement\n",
    "gross_profit_web_2024 = yahoo_web_income_statement.loc[\"Gross Profit\", \"9/30/2024\"]\n",
    "total_revenue_web_2024 = yahoo_web_income_statement.loc[\"Total Revenue\", \"9/30/2024\"]\n",
    "if not pd.isna(gross_profit_web_2024) and not pd.isna(total_revenue_web_2024) and total_revenue_web_2024 != 0:\n",
    "    print(f\"Yahoo Web (9/30/2024) calculated: {gross_profit_web_2024 / total_revenue_web_2024:.4f}\")\n",
    "else:\n",
    "    print(\"Yahoo Web (9/30/2024) calculated: Data not available for calculation.\")"
   ]
  },
  {
   "cell_type": "code",
   "execution_count": null,
   "id": "32",
   "metadata": {},
   "outputs": [],
   "source": [
    "\n",
    "# Using Yahoo API Income Statement (Quarterly)\n",
    "gross_profit_api_q3_2024 = yahoo_api_income_statement_quarterly.loc[\"2024-09-30\", \"GrossProfit\"]\n",
    "total_revenue_api_q3_2024 = yahoo_api_income_statement_quarterly.loc[\"2024-09-30\", \"TotalRevenue\"]\n",
    "if not pd.isna(gross_profit_api_q3_2024) and not pd.isna(total_revenue_api_q3_2024) and total_revenue_api_q3_2024 != 0:\n",
    "    print(f\"Yahoo API Quarterly (2024-09-30) calculated: {gross_profit_api_q3_2024 / total_revenue_api_q3_2024:.4f}\")\n",
    "else:\n",
    "    print(\"Yahoo API Quarterly (2024-09-30) calculated: Data not available for calculation.\")"
   ]
  },
  {
   "cell_type": "code",
   "execution_count": null,
   "id": "33",
   "metadata": {},
   "outputs": [],
   "source": [
    "\n",
    "# Using Yahoo API Financials\n",
    "gross_profit_api_2023 = yahoo_api_financials.loc[\"2023-09-30\", \"GrossProfit\"]\n",
    "total_revenue_api_2023 = yahoo_api_financials.loc[\"2023-09-30\", \"TotalRevenue\"]\n",
    "if not pd.isna(gross_profit_api_2023) and not pd.isna(total_revenue_api_2023) and total_revenue_api_2023 != 0:\n",
    "    print(f\"Yahoo API Financials (2023-09-30) calculated: {gross_profit_api_2023 / total_revenue_api_2023:.4f}\")\n",
    "else:\n",
    "    print(\"Yahoo API Financials (2023-09-30) calculated: Data not available for calculation.\")"
   ]
  },
  {
   "cell_type": "code",
   "execution_count": null,
   "id": "34",
   "metadata": {},
   "outputs": [],
   "source": [
    "\n",
    "print(\"\\nprofitMargins:\")\n",
    "# From Macrotrends Net Margin\n",
    "if not macrotrends_net_margin.empty:\n",
    "    print(\n",
    "        f\"Macrotrends Net Margin (latest): {macrotrends_net_margin.loc[macrotrends_net_margin.index[-1], 'Net Margin']:.4f}\"\n",
    "    )\n",
    "else:\n",
    "    print(\"Macrotrends Net Margin: Data not available.\")"
   ]
  },
  {
   "cell_type": "code",
   "execution_count": null,
   "id": "35",
   "metadata": {},
   "outputs": [],
   "source": [
    "\n",
    "# Calculation using Macrotrends Income Statement\n",
    "net_income_macro_2024 = macrotrends_income_statement.loc[\"Net Income\", \"2024-09-30\"]\n",
    "revenue_macro_2024 = macrotrends_income_statement.loc[\"Revenue\", \"2024-09-30\"]\n",
    "if not pd.isna(net_income_macro_2024) and not pd.isna(revenue_macro_2024) and revenue_macro_2024 != 0:\n",
    "    print(f\"Macrotrends (2024-09-30) calculated: {net_income_macro_2024 / revenue_macro_2024:.4f}\")\n",
    "else:\n",
    "    print(\"Macrotrends (2024-09-30) calculated: Data not available for calculation.\")"
   ]
  },
  {
   "cell_type": "code",
   "execution_count": null,
   "id": "36",
   "metadata": {},
   "outputs": [],
   "source": [
    "\n",
    "# Calculation using Yahoo Web Income Statement\n",
    "net_income_web_2024 = yahoo_web_income_statement.loc[\"Net Income Common Stockholders\", \"9/30/2024\"]\n",
    "total_revenue_web_2024 = yahoo_web_income_statement.loc[\"Total Revenue\", \"9/30/2024\"]\n",
    "if not pd.isna(net_income_web_2024) and not pd.isna(total_revenue_web_2024) and total_revenue_web_2024 != 0:\n",
    "    print(f\"Yahoo Web (9/30/2024) calculated: {net_income_web_2024 / total_revenue_web_2024:.4f}\")\n",
    "else:\n",
    "    print(\"Yahoo Web (9/30/2024) calculated: Data not available for calculation.\")"
   ]
  },
  {
   "cell_type": "code",
   "execution_count": null,
   "id": "37",
   "metadata": {},
   "outputs": [],
   "source": [
    "\n",
    "# Using Yahoo API Income Statement (Quarterly)\n",
    "net_income_api_q3_2024 = yahoo_api_income_statement_quarterly.loc[\"2024-09-30\", \"NetIncome\"]\n",
    "total_revenue_api_q3_2024 = yahoo_api_income_statement_quarterly.loc[\"2024-09-30\", \"TotalRevenue\"]\n",
    "if not pd.isna(net_income_api_q3_2024) and not pd.isna(total_revenue_api_q3_2024) and total_revenue_api_q3_2024 != 0:\n",
    "    print(f\"Yahoo API Quarterly (2024-09-30) calculated: {net_income_api_q3_2024 / total_revenue_api_q3_2024:.4f}\")\n",
    "else:\n",
    "    print(\"Yahoo API Quarterly (2024-09-30) calculated: Data not available for calculation.\")"
   ]
  },
  {
   "cell_type": "code",
   "execution_count": null,
   "id": "38",
   "metadata": {},
   "outputs": [],
   "source": [
    "\n",
    "# Using Yahoo API Financials\n",
    "net_income_api_2023 = yahoo_api_financials.loc[\"2023-09-30\", \"NetIncome\"]\n",
    "total_revenue_api_2023 = yahoo_api_financials.loc[\"2023-09-30\", \"TotalRevenue\"]\n",
    "if not pd.isna(net_income_api_2023) and not pd.isna(total_revenue_api_2023) and total_revenue_api_2023 != 0:\n",
    "    print(f\"Yahoo API Financials (2023-09-30) calculated: {net_income_api_2023 / total_revenue_api_2023:.4f}\")\n",
    "else:\n",
    "    print(\"Yahoo API Financials (2023-09-30) calculated: Data not available for calculation.\")\n",
    "\n",
    "print(\"\\n--- Growth Sustainability ---\")"
   ]
  },
  {
   "cell_type": "code",
   "execution_count": null,
   "id": "39",
   "metadata": {},
   "outputs": [],
   "source": [
    "\n",
    "print(\"\\nrevenueGrowth:\")\n",
    "# Macrotrends Income Statement\n",
    "if len(macrotrends_income_statement.columns) >= 2:\n",
    "    revenue_current = macrotrends_income_statement.loc[\"Revenue\", \"2024-09-30\"]\n",
    "    revenue_previous = macrotrends_income_statement.loc[\"Revenue\", \"2023-09-30\"]\n",
    "    if not pd.isna(revenue_current) and not pd.isna(revenue_previous) and revenue_previous != 0:\n",
    "        print(f\"Macrotrends (2024-09-30 vs 2023-09-30): {(revenue_current / revenue_previous - 1):.4f}\")\n",
    "    else:\n",
    "        print(\"Macrotrends (2024-09-30 vs 2023-09-30): Data not available for calculation.\")"
   ]
  },
  {
   "cell_type": "code",
   "execution_count": null,
   "id": "40",
   "metadata": {},
   "outputs": [],
   "source": [
    "\n",
    "# Yahoo Web Income Statement\n",
    "if len(yahoo_web_income_statement.columns) >= 2:\n",
    "    revenue_web_current = yahoo_web_income_statement.loc[\"Total Revenue\", \"9/30/2024\"]\n",
    "    revenue_web_previous = yahoo_web_income_statement.loc[\"Total Revenue\", \"9/30/2023\"]\n",
    "    if not pd.isna(revenue_web_current) and not pd.isna(revenue_web_previous) and revenue_web_previous != 0:\n",
    "        print(f\"Yahoo Web (9/30/2024 vs 9/30/2023): {(revenue_web_current / revenue_web_previous - 1):.4f}\")\n",
    "    else:\n",
    "        print(\"Yahoo Web (9/30/2024 vs 9/30/2023): Data not available for calculation.\")"
   ]
  },
  {
   "cell_type": "code",
   "execution_count": null,
   "id": "41",
   "metadata": {},
   "outputs": [],
   "source": [
    "\n",
    "# Yahoo API Financials\n",
    "if len(yahoo_api_financials.index) >= 2:\n",
    "    revenue_api_current = yahoo_api_financials.loc[\"2023-09-30\", \"TotalRevenue\"]\n",
    "    revenue_api_previous = yahoo_api_financials.loc[\"2022-09-30\", \"TotalRevenue\"]\n",
    "    if not pd.isna(revenue_api_current) and not pd.isna(revenue_api_previous) and revenue_api_previous != 0:\n",
    "        print(\n",
    "            f\"Yahoo API Financials (2023-09-30 vs 2022-09-30): {(revenue_api_current / revenue_api_previous - 1):.4f}\"\n",
    "        )\n",
    "    else:\n",
    "        print(\"Yahoo API Financials (2023-09-30 vs 2022-09-30): Data not available for calculation.\")"
   ]
  },
  {
   "cell_type": "code",
   "execution_count": null,
   "id": "42",
   "metadata": {},
   "outputs": [],
   "source": [
    "\n",
    "print(\"\\nearningsGrowth:\")\n",
    "# Macrotrends Income Statement\n",
    "if len(macrotrends_income_statement.columns) >= 2:\n",
    "    net_income_current = macrotrends_income_statement.loc[\"Net Income\", \"2024-09-30\"]\n",
    "    net_income_previous = macrotrends_income_statement.loc[\"Net Income\", \"2023-09-30\"]\n",
    "    if not pd.isna(net_income_current) and not pd.isna(net_income_previous) and net_income_previous != 0:\n",
    "        print(f\"Macrotrends (2024-09-30 vs 2023-09-30): {(net_income_current / net_income_previous - 1):.4f}\")\n",
    "    else:\n",
    "        print(\"Macrotrends (2024-09-30 vs 2023-09-30): Data not available for calculation.\")"
   ]
  },
  {
   "cell_type": "code",
   "execution_count": null,
   "id": "43",
   "metadata": {},
   "outputs": [],
   "source": [
    "\n",
    "# Yahoo Web Income Statement\n",
    "if len(yahoo_web_income_statement.columns) >= 2:\n",
    "    net_income_web_current = yahoo_web_income_statement.loc[\"Net Income Common Stockholders\", \"9/30/2024\"]\n",
    "    net_income_web_previous = yahoo_web_income_statement.loc[\"Net Income Common Stockholders\", \"9/30/2023\"]\n",
    "    if not pd.isna(net_income_web_current) and not pd.isna(net_income_web_previous) and net_income_web_previous != 0:\n",
    "        print(f\"Yahoo Web (9/30/2024 vs 9/30/2023): {(net_income_web_current / net_income_web_previous - 1):.4f}\")\n",
    "    else:\n",
    "        print(\"Yahoo Web (9/30/2024 vs 9/30/2023): Data not available for calculation.\")"
   ]
  },
  {
   "cell_type": "code",
   "execution_count": null,
   "id": "44",
   "metadata": {},
   "outputs": [],
   "source": [
    "\n",
    "# Yahoo API Financials\n",
    "if len(yahoo_api_financials.index) >= 2:\n",
    "    net_income_api_current = yahoo_api_financials.loc[\"2023-09-30\", \"NetIncomeCommonStockholders\"]\n",
    "    net_income_api_previous = yahoo_api_financials.loc[\"2022-09-30\", \"NetIncomeCommonStockholders\"]\n",
    "    if not pd.isna(net_income_api_current) and not pd.isna(net_income_api_previous) and net_income_api_previous != 0:\n",
    "        print(\n",
    "            f\"Yahoo API Financials (2023-09-30 vs 2022-09-30): {(net_income_api_current / net_income_api_previous - 1):.4f}\"\n",
    "        )\n",
    "    else:\n",
    "        print(\"Yahoo API Financials (2023-09-30 vs 2022-09-30): Data not available for calculation.\")"
   ]
  },
  {
   "cell_type": "code",
   "execution_count": null,
   "id": "45",
   "metadata": {},
   "outputs": [],
   "source": [
    "\n",
    "print(\"\\nearningsQuarterlyGrowth:\")\n",
    "# Yahoo API Income Statement (Quarterly)\n",
    "if len(yahoo_api_income_statement_quarterly.index) >= 2:\n",
    "    net_income_q_current = yahoo_api_income_statement_quarterly.loc[\"2025-03-31\", \"NetIncome\"]\n",
    "    net_income_q_previous = yahoo_api_income_statement_quarterly.loc[\"2024-12-31\", \"NetIncome\"]\n",
    "    if not pd.isna(net_income_q_current) and not pd.isna(net_income_q_previous) and net_income_q_previous != 0:\n",
    "        print(\n",
    "            f\"Yahoo API Quarterly (2025-03-31 vs 2024-12-31): {(net_income_q_current / net_income_q_previous - 1):.4f}\"\n",
    "        )\n",
    "    else:\n",
    "        print(\"Yahoo API Quarterly (2025-03-31 vs 2024-12-31): Data not available for calculation.\")"
   ]
  },
  {
   "cell_type": "code",
   "execution_count": null,
   "id": "46",
   "metadata": {},
   "outputs": [],
   "source": [
    "\n",
    "print(\"\\nfreeCashflow:\")\n",
    "# Yahoo Web Cashflow (TTM)\n",
    "if \"Free Cash Flow\" in yahoo_web_cashflow.index:\n",
    "    print(f\"Yahoo Web Cashflow (TTM): {yahoo_web_cashflow.loc['Free Cash Flow', 'TTM']:.2f}\")\n",
    "else:\n",
    "    print(\"Yahoo Web Cashflow (TTM): Data not available.\")"
   ]
  },
  {
   "cell_type": "code",
   "execution_count": null,
   "id": "47",
   "metadata": {},
   "outputs": [],
   "source": [
    "\n",
    "# Digrin Free Cash Flow (latest)\n",
    "if not digrin_free_cash_flow.empty:\n",
    "    print(\n",
    "        f\"Digrin Free Cash Flow (latest): {digrin_free_cash_flow.loc[digrin_free_cash_flow.index[0], 'Free Cash Flow']:.2f}\"\n",
    "    )\n",
    "else:\n",
    "    print(\"Digrin Free Cash Flow: Data not available.\")"
   ]
  },
  {
   "cell_type": "code",
   "execution_count": null,
   "id": "48",
   "metadata": {},
   "outputs": [],
   "source": [
    "\n",
    "# Calculation from Yahoo Web Cashflow (Operating Cash Flow - Capital Expenditure) for a specific year\n",
    "if \"Operating Cash Flow\" in yahoo_web_cashflow.index and \"Capital Expenditure\" in yahoo_web_cashflow.index:\n",
    "    op_cash_flow_web_2024 = yahoo_web_cashflow.loc[\"Operating Cash Flow\", \"9/30/2024\"]\n",
    "    capex_web_2024 = yahoo_web_cashflow.loc[\"Capital Expenditure\", \"9/30/2024\"]\n",
    "    if not pd.isna(op_cash_flow_web_2024) and not pd.isna(capex_web_2024):\n",
    "        print(f\"Yahoo Web (9/30/2024) calculated: {op_cash_flow_web_2024 - capex_web_2024:.2f}\")\n",
    "    else:\n",
    "        print(\"Yahoo Web (9/30/2024) calculated: Data not available for calculation.\")"
   ]
  },
  {
   "cell_type": "code",
   "execution_count": null,
   "id": "49",
   "metadata": {},
   "outputs": [],
   "source": [
    "\n",
    "# Calculation from Macrotrends Cash Flow (Cash Flow From Operating Activities - Net Change In Property, Plant, And Equipment) for a specific year\n",
    "if (\n",
    "    \"Cash Flow From Operating Activities\" in macrotrends_cash_flow.index\n",
    "    and \"Net Change In Property, Plant, And Equipment\" in macrotrends_cash_flow.index\n",
    "):\n",
    "    op_cash_flow_macro_2024 = macrotrends_cash_flow.loc[\"Cash Flow From Operating Activities\", \"2024-09-30\"]\n",
    "    ppe_change_macro_2024 = macrotrends_cash_flow.loc[\"Net Change In Property, Plant, And Equipment\", \"2024-09-30\"]\n",
    "    if not pd.isna(op_cash_flow_macro_2024) and not pd.isna(ppe_change_macro_2024):\n",
    "        print(\n",
    "            f\"Macrotrends (2024-09-30) calculated: {op_cash_flow_macro_2024 + ppe_change_macro_2024:.2f}\"\n",
    "        )  # Note: PPE change is usually negative for capex\n",
    "    else:\n",
    "        print(\"Macrotrends (2024-09-30) calculated: Data not available for calculation.\")"
   ]
  },
  {
   "cell_type": "code",
   "execution_count": null,
   "id": "50",
   "metadata": {},
   "outputs": [],
   "source": [
    "\n",
    "# Calculation from Yahoo API Cash Flow (OperatingCashFlow - CapitalExpenditure) for a specific year\n",
    "if \"OperatingCashFlow\" in yahoo_api_cash_flow.columns and \"CapitalExpenditure\" in yahoo_api_cash_flow.columns:\n",
    "    op_cash_flow_api_2024 = yahoo_api_cash_flow.loc[\"2024-09-30\", \"OperatingCashFlow\"]\n",
    "    capex_api_2024 = yahoo_api_cash_flow.loc[\"2024-09-30\", \"CapitalExpenditure\"]\n",
    "    if not pd.isna(op_cash_flow_api_2024) and not pd.isna(capex_api_2024):\n",
    "        print(\n",
    "            f\"Yahoo API (2024-09-30) calculated: {op_cash_flow_api_2024 + capex_api_2024:.2f}\"\n",
    "        )  # Note: CapitalExpenditure is typically negative\n",
    "    else:\n",
    "        print(\"Yahoo API (2024-09-30) calculated: Data not available for calculation.\")\n",
    "\n",
    "print(\"\\n--- Balance-Sheet Resilience ---\")"
   ]
  },
  {
   "cell_type": "code",
   "execution_count": null,
   "id": "51",
   "metadata": {},
   "outputs": [],
   "source": [
    "\n",
    "print(\"\\ntotalCash:\")\n",
    "# Macrotrends Balance Sheet\n",
    "if \"Cash On Hand\" in macrotrends_balance_sheet.index:\n",
    "    print(f\"Macrotrends Balance Sheet (2024-09-30): {macrotrends_balance_sheet.loc['Cash On Hand', '2024-09-30']:.2f}\")\n",
    "else:\n",
    "    print(\"Macrotrends Balance Sheet: Cash On Hand data not available.\")"
   ]
  },
  {
   "cell_type": "code",
   "execution_count": null,
   "id": "52",
   "metadata": {},
   "outputs": [],
   "source": [
    "\n",
    "# Digrin Cash and Debt\n",
    "if not digrin_cash_and_debt.empty:\n",
    "    print(f\"Digrin Cash and Debt (latest): {digrin_cash_and_debt.loc[0, 'Cash']:.2f}\")\n",
    "else:\n",
    "    print(\"Digrin Cash and Debt: Data not available.\")"
   ]
  },
  {
   "cell_type": "code",
   "execution_count": null,
   "id": "53",
   "metadata": {},
   "outputs": [],
   "source": [
    "\n",
    "# Yahoo API Balance Sheet\n",
    "if \"CashAndCashEquivalents\" in yahoo_api_balance_sheet.columns:\n",
    "    print(\n",
    "        f\"Yahoo API Balance Sheet (2024-09-30): {yahoo_api_balance_sheet.loc['2024-09-30', 'CashAndCashEquivalents']:.2f}\"\n",
    "    )\n",
    "else:\n",
    "    print(\"Yahoo API Balance Sheet: CashAndCashEquivalents data not available.\")"
   ]
  },
  {
   "cell_type": "code",
   "execution_count": null,
   "id": "54",
   "metadata": {},
   "outputs": [],
   "source": [
    "\n",
    "print(\"\\ntotalDebt:\")\n",
    "# Yahoo Web Balance Sheet\n",
    "if \"Total Debt\" in yahoo_web_balance_sheet.index:\n",
    "    print(f\"Yahoo Web Balance Sheet (9/30/2024): {yahoo_web_balance_sheet.loc['Total Debt', '9/30/2024']:.2f}\")\n",
    "else:\n",
    "    print(\"Yahoo Web Balance Sheet: Total Debt data not available.\")"
   ]
  },
  {
   "cell_type": "code",
   "execution_count": null,
   "id": "55",
   "metadata": {},
   "outputs": [],
   "source": [
    "\n",
    "# Digrin Cash and Debt\n",
    "if not digrin_cash_and_debt.empty:\n",
    "    print(f\"Digrin Cash and Debt (latest): {digrin_cash_and_debt.loc[0, 'Debt']:.2f}\")\n",
    "else:\n",
    "    print(\"Digrin Cash and Debt: Data not available.\")"
   ]
  },
  {
   "cell_type": "code",
   "execution_count": null,
   "id": "56",
   "metadata": {},
   "outputs": [],
   "source": [
    "\n",
    "# Yahoo API Balance Sheet\n",
    "if \"TotalDebt\" in yahoo_api_balance_sheet.columns:\n",
    "    print(f\"Yahoo API Balance Sheet (2024-09-30): {yahoo_api_balance_sheet.loc['2024-09-30', 'TotalDebt']:.2f}\")\n",
    "else:\n",
    "    print(\"Yahoo API Balance Sheet: TotalDebt data not available.\")"
   ]
  },
  {
   "cell_type": "code",
   "execution_count": null,
   "id": "57",
   "metadata": {},
   "outputs": [],
   "source": [
    "\n",
    "print(\"\\ndebtToEquity:\")\n",
    "# Calculation using Macrotrends Balance Sheet\n",
    "if \"Total Liabilities\" in macrotrends_balance_sheet.index and \"Share Holder Equity\" in macrotrends_balance_sheet.index:\n",
    "    total_liabilities_macro_2024 = macrotrends_balance_sheet.loc[\"Total Liabilities\", \"2024-09-30\"]\n",
    "    share_holder_equity_macro_2024 = macrotrends_balance_sheet.loc[\n",
    "        \"Share Holder Equity\", \"2024-09-30\"\n",
    "    ]  # Corrected typo here\n",
    "    if (\n",
    "        not pd.isna(total_liabilities_macro_2024)\n",
    "        and not pd.isna(share_holder_equity_macro_2024)\n",
    "        and share_holder_equity_macro_2024 != 0\n",
    "    ):\n",
    "        print(\n",
    "            f\"Macrotrends (2024-09-30) calculated: {total_liabilities_macro_2024 / share_holder_equity_macro_2024:.4f}\"\n",
    "        )\n",
    "    else:\n",
    "        print(\"Macrotrends (2024-09-30) calculated: Data not available for calculation.\")"
   ]
  },
  {
   "cell_type": "code",
   "execution_count": null,
   "id": "58",
   "metadata": {},
   "outputs": [],
   "source": [
    "\n",
    "# Calculation using Yahoo Web Balance Sheet\n",
    "if (\n",
    "    \"Total Liabilities Net Minority Interest\" in yahoo_web_balance_sheet.index\n",
    "    and \"Total Equity Gross Minority Interest\" in yahoo_web_balance_sheet.index\n",
    "):\n",
    "    total_liabilities_web_2024 = yahoo_web_balance_sheet.loc[\"Total Liabilities Net Minority Interest\", \"9/30/2024\"]\n",
    "    total_equity_web_2024 = yahoo_web_balance_sheet.loc[\"Total Equity Gross Minority Interest\", \"9/30/2024\"]\n",
    "    if not pd.isna(total_liabilities_web_2024) and not pd.isna(total_equity_web_2024) and total_equity_web_2024 != 0:\n",
    "        print(f\"Yahoo Web (9/30/2024) calculated: {total_liabilities_web_2024 / total_equity_web_2024:.4f}\")\n",
    "    else:\n",
    "        print(\"Yahoo Web (9/30/2024) calculated: Data not available for calculation.\")"
   ]
  },
  {
   "cell_type": "code",
   "execution_count": null,
   "id": "59",
   "metadata": {},
   "outputs": [],
   "source": [
    "\n",
    "# Calculation using Yahoo API Balance Sheet\n",
    "if (\n",
    "    \"TotalLiabilitiesNetMinorityInterest\" in yahoo_api_balance_sheet.columns\n",
    "    and \"StockholdersEquity\" in yahoo_api_balance_sheet.columns\n",
    "):\n",
    "    total_liabilities_api_2024 = yahoo_api_balance_sheet.loc[\"2024-09-30\", \"TotalLiabilitiesNetMinorityInterest\"]\n",
    "    stockholders_equity_api_2024 = yahoo_api_balance_sheet.loc[\"2024-09-30\", \"StockholdersEquity\"]\n",
    "    if (\n",
    "        not pd.isna(total_liabilities_api_2024)\n",
    "        and not pd.isna(stockholders_equity_api_2024)\n",
    "        and stockholders_equity_api_2024 != 0\n",
    "    ):\n",
    "        print(f\"Yahoo API (2024-09-30) calculated: {total_liabilities_api_2024 / stockholders_equity_api_2024:.4f}\")\n",
    "    else:\n",
    "        print(\"Yahoo API (2024-09-30) calculated: Data not available for calculation.\")"
   ]
  },
  {
   "cell_type": "code",
   "execution_count": null,
   "id": "60",
   "metadata": {},
   "outputs": [],
   "source": [
    "\n",
    "print(\"\\ncurrentRatio:\")\n",
    "# Calculation using Macrotrends Balance Sheet\n",
    "if (\n",
    "    \"Total Current Assets\" in macrotrends_balance_sheet.index\n",
    "    and \"Total Current Liabilities\" in macrotrends_balance_sheet.index\n",
    "):\n",
    "    current_assets_macro_2024 = macrotrends_balance_sheet.loc[\"Total Current Assets\", \"2024-09-30\"]\n",
    "    current_liabilities_macro_2024 = macrotrends_balance_sheet.loc[\"Total Current Liabilities\", \"2024-09-30\"]\n",
    "    if (\n",
    "        not pd.isna(current_assets_macro_2024)\n",
    "        and not pd.isna(current_liabilities_macro_2024)\n",
    "        and current_liabilities_macro_2024 != 0\n",
    "    ):\n",
    "        print(f\"Macrotrends (2024-09-30) calculated: {current_assets_macro_2024 / current_liabilities_macro_2024:.4f}\")\n",
    "    else:\n",
    "        print(\"Macrotrends (2024-09-30) calculated: Data not available for calculation.\")"
   ]
  },
  {
   "cell_type": "code",
   "execution_count": null,
   "id": "61",
   "metadata": {},
   "outputs": [],
   "source": [
    "\n",
    "# Calculation using Yahoo API Balance Sheet\n",
    "if \"CurrentAssets\" in yahoo_api_balance_sheet.columns and \"CurrentLiabilities\" in yahoo_api_balance_sheet.columns:\n",
    "    current_assets_api_2024 = yahoo_api_balance_sheet.loc[\"2024-09-30\", \"CurrentAssets\"]\n",
    "    current_liabilities_api_2024 = yahoo_api_balance_sheet.loc[\"2024-09-30\", \"CurrentLiabilities\"]\n",
    "    if (\n",
    "        not pd.isna(current_assets_api_2024)\n",
    "        and not pd.isna(current_liabilities_api_2024)\n",
    "        and current_liabilities_api_2024 != 0\n",
    "    ):\n",
    "        print(f\"Yahoo API (2024-09-30) calculated: {current_assets_api_2024 / current_liabilities_api_2024:.4f}\")\n",
    "    else:\n",
    "        print(\"Yahoo API (2024-09-30) calculated: Data not available for calculation.\")"
   ]
  },
  {
   "cell_type": "code",
   "execution_count": null,
   "id": "62",
   "metadata": {},
   "outputs": [],
   "source": [
    "\n",
    "print(\"\\n--- Capital-Allocation Track Record ---\")\n",
    "\n",
    "print(\"\\ndividendYield:\")\n",
    "# Yahoo Web Trading Information\n",
    "if \"Forward Annual Dividend Yield 4\" in yahoo_web_trading_information.index:\n",
    "    print(\n",
    "        f\"Yahoo Web Trading Information (Forward Annual Dividend Yield): {yahoo_web_trading_information.loc['Forward Annual Dividend Yield 4', 'Value']:.4f}\"\n",
    "    )\n",
    "else:\n",
    "    print(\"Yahoo Web Trading Information: Forward Annual Dividend Yield data not available.\")\n",
    "if \"Trailing Annual Dividend Yield 3\" in yahoo_web_trading_information.index:\n",
    "    print(\n",
    "        f\"Yahoo Web Trading Information (Trailing Annual Dividend Yield): {yahoo_web_trading_information.loc['Trailing Annual Dividend Yield 3', 'Value']:.4f}\"\n",
    "    )\n",
    "else:\n",
    "    print(\"Yahoo Web Trading Information: Trailing Annual Dividend Yield data not available.\")"
   ]
  },
  {
   "cell_type": "code",
   "execution_count": null,
   "id": "63",
   "metadata": {},
   "outputs": [],
   "source": [
    "\n",
    "# Digrin DGR3\n",
    "if not digrin_dgr3.empty:\n",
    "    print(\n",
    "        f\"Digrin DGR3 (2025 Estimated Yield on Cost): {digrin_dgr3.loc[digrin_dgr3.index[digrin_dgr3['Year'] == 2025].tolist()[0], 'Estimated Yield on Cost']:.4f}\"\n",
    "    )\n",
    "else:\n",
    "    print(\"Digrin DGR3: Data not available.\")"
   ]
  },
  {
   "cell_type": "code",
   "execution_count": null,
   "id": "64",
   "metadata": {},
   "outputs": [],
   "source": [
    "\n",
    "# Calculation (Latest Dividend / Latest Close Price)\n",
    "if not digrin_dividend_data.empty and not yahoo_api_price_data.empty:\n",
    "    latest_dividend = digrin_dividend_data.loc[0, \"Dividend amount (change)\"]\n",
    "    latest_close_price = yahoo_api_price_data.loc[yahoo_api_price_data.index[-1], \"close\"]\n",
    "    if not pd.isna(latest_dividend) and not pd.isna(latest_close_price) and latest_close_price != 0:\n",
    "        print(f\"Calculated (Latest Dividend / Latest Close Price): {latest_dividend / latest_close_price:.4f}\")\n",
    "    else:\n",
    "        print(\"Calculated (Latest Dividend / Latest Close Price): Data not available for calculation.\")"
   ]
  },
  {
   "cell_type": "code",
   "execution_count": null,
   "id": "65",
   "metadata": {},
   "outputs": [],
   "source": [
    "\n",
    "print(\"\\npayoutRatio:\")\n",
    "# Yahoo Web Trading Information\n",
    "if \"Payout Ratio 4\" in yahoo_web_trading_information.index:\n",
    "    print(f\"Yahoo Web Trading Information: {yahoo_web_trading_information.loc['Payout Ratio 4', 'Value']:.4f}\")\n",
    "else:\n",
    "    print(\"Yahoo Web Trading Information: Payout Ratio data not available.\")"
   ]
  },
  {
   "cell_type": "code",
   "execution_count": null,
   "id": "66",
   "metadata": {},
   "outputs": [],
   "source": [
    "\n",
    "# Digrin Payout Ratio\n",
    "if not digrin_payout_ratio.empty:\n",
    "    print(f\"Digrin Payout Ratio (latest): {digrin_payout_ratio.loc[digrin_payout_ratio.index[0], 'Payout ratio']:.4f}\")\n",
    "else:\n",
    "    print(\"Digrin Payout Ratio: Data not available.\")"
   ]
  },
  {
   "cell_type": "code",
   "execution_count": null,
   "id": "67",
   "metadata": {},
   "outputs": [],
   "source": [
    "\n",
    "print(\"\\nfiveYearAvgDividendYield:\")\n",
    "# Yahoo Web Trading Information\n",
    "if \"5 Year Average Dividend Yield 4\" in yahoo_web_trading_information.index:\n",
    "    print(\n",
    "        f\"Yahoo Web Trading Information: {yahoo_web_trading_information.loc['5 Year Average Dividend Yield 4', 'Value']:.4f}\"\n",
    "    )\n",
    "else:\n",
    "    print(\"Yahoo Web Trading Information: 5 Year Average Dividend Yield data not available.\")\n",
    "\n",
    "print(\"\\n--- Valuation vs. Quality (entry discipline) ---\")"
   ]
  },
  {
   "cell_type": "code",
   "execution_count": null,
   "id": "68",
   "metadata": {},
   "outputs": [],
   "source": [
    "\n",
    "print(\"\\nforwardPE:\")\n",
    "# Yahoo Web Valuation Measures\n",
    "if \"Forward P/E\" in yahoo_web_valuation_measures.index:\n",
    "    print(f\"Yahoo Web Valuation Measures (Current): {yahoo_web_valuation_measures.loc['Forward P/E', 'Current']:.2f}\")\n",
    "else:\n",
    "    print(\"Yahoo Web Valuation Measures: Forward P/E data not available.\")"
   ]
  },
  {
   "cell_type": "code",
   "execution_count": null,
   "id": "69",
   "metadata": {},
   "outputs": [],
   "source": [
    "\n",
    "print(\"\\ntrailingPE:\")\n",
    "# Yahoo Web Summary\n",
    "if \"trailingPE\" in yahoo_web_summary.index:\n",
    "    print(f\"Yahoo Web Summary: {yahoo_web_summary.loc['trailingPE', 0]:.2f}\")\n",
    "else:\n",
    "    print(\"Yahoo Web Summary: trailingPE data not available.\")"
   ]
  },
  {
   "cell_type": "code",
   "execution_count": null,
   "id": "70",
   "metadata": {},
   "outputs": [],
   "source": [
    "\n",
    "# Yahoo Web Valuation Measures\n",
    "if \"Trailing P/E\" in yahoo_web_valuation_measures.index:\n",
    "    print(f\"Yahoo Web Valuation Measures (Current): {yahoo_web_valuation_measures.loc['Trailing P/E', 'Current']:.2f}\")\n",
    "else:\n",
    "    print(\"Yahoo Web Valuation Measures: Trailing P/E data not available.\")"
   ]
  },
  {
   "cell_type": "code",
   "execution_count": null,
   "id": "71",
   "metadata": {},
   "outputs": [],
   "source": [
    "\n",
    "print(\"\\npriceToBook:\")\n",
    "# Yahoo Web Valuation Measures\n",
    "if \"Price/Book\" in yahoo_web_valuation_measures.index:\n",
    "    print(f\"Yahoo Web Valuation Measures (Current): {yahoo_web_valuation_measures.loc['Price/Book', 'Current']:.2f}\")\n",
    "else:\n",
    "    print(\"Yahoo Web Valuation Measures: Price/Book data not available.\")"
   ]
  },
  {
   "cell_type": "code",
   "execution_count": null,
   "id": "72",
   "metadata": {},
   "outputs": [],
   "source": [
    "\n",
    "print(\"\\npriceToSalesTrailing12Months:\")\n",
    "# Yahoo Web Valuation Measures\n",
    "if \"Price/Sales\" in yahoo_web_valuation_measures.index:\n",
    "    print(f\"Yahoo Web Valuation Measures (Current): {yahoo_web_valuation_measures.loc['Price/Sales', 'Current']:.2f}\")\n",
    "else:\n",
    "    print(\"Yahoo Web Valuation Measures: Price/Sales data not available.\")"
   ]
  },
  {
   "cell_type": "code",
   "execution_count": null,
   "id": "73",
   "metadata": {},
   "outputs": [],
   "source": [
    "\n",
    "print(\"\\nenterpriseToEbitda:\")\n",
    "# Yahoo Web Valuation Measures\n",
    "if \"Enterprise Value/EBITDA\" in yahoo_web_valuation_measures.index:\n",
    "    print(\n",
    "        f\"Yahoo Web Valuation Measures (Current): {yahoo_web_valuation_measures.loc['Enterprise Value/EBITDA', 'Current']:.2f}\"\n",
    "    )\n",
    "else:\n",
    "    print(\"Yahoo Web Valuation Measures: Enterprise Value/EBITDA data not available.\")"
   ]
  },
  {
   "cell_type": "code",
   "execution_count": null,
   "id": "74",
   "metadata": {},
   "outputs": [],
   "source": [
    "\n",
    "print(\"\\ntrailingPegRatio:\")\n",
    "# Yahoo Web Valuation Measures (PEG Ratio is the closest, based on 5yr expected growth)\n",
    "if \"PEG Ratio (5yr expected)\" in yahoo_web_valuation_measures.index:\n",
    "    print(\n",
    "        f\"Yahoo Web Valuation Measures (PEG Ratio (5yr expected) for Current): {yahoo_web_valuation_measures.loc['PEG Ratio (5yr expected)', 'Current']:.2f}\"\n",
    "    )\n",
    "else:\n",
    "    print(\"Yahoo Web Valuation Measures: PEG Ratio data not available.\")"
   ]
  },
  {
   "cell_type": "code",
   "execution_count": null,
   "id": "75",
   "metadata": {},
   "outputs": [],
   "source": [
    "\n",
    "print(\"\\n--- Ownership & Liquidity ---\")\n",
    "\n",
    "print(\"\\nheldPercentInsiders:\")\n",
    "# Yahoo Web Trading Information\n",
    "if \"% Held by Insiders 1\" in yahoo_web_trading_information.index:\n",
    "    print(\n",
    "        f\"Yahoo Web Trading Information: {yahoo_web_trading_information.loc['% Held by Insiders 1', 'Value'] / 100:.4f}\"\n",
    "    )\n",
    "else:\n",
    "    print(\"Yahoo Web Trading Information: % Held by Insiders data not available.\")\n",
    "# Yahoo Web Major Holders\n",
    "if not yahoo_web_major_holders.empty and 0 in yahoo_web_major_holders.index and 0 in yahoo_web_major_holders.columns:\n",
    "    print(f\"Yahoo Web Major Holders: {yahoo_web_major_holders.loc[0, 0] / 100:.4f}\")\n",
    "else:\n",
    "    print(\"Yahoo Web Major Holders: % of Shares Held by All Insider data not available.\")"
   ]
  },
  {
   "cell_type": "code",
   "execution_count": null,
   "id": "76",
   "metadata": {},
   "outputs": [],
   "source": [
    "\n",
    "print(\"\\nheldPercentInstitutions:\")\n",
    "# Yahoo Web Trading Information\n",
    "if \"% Held by Institutions 1\" in yahoo_web_trading_information.index:\n",
    "    print(\n",
    "        f\"Yahoo Web Trading Information: {yahoo_web_trading_information.loc['% Held by Institutions 1', 'Value'] / 100:.4f}\"\n",
    "    )\n",
    "else:\n",
    "    print(\"Yahoo Web Trading Information: % Held by Institutions data not available.\")\n",
    "# Yahoo Web Major Holders\n",
    "if not yahoo_web_major_holders.empty and 1 in yahoo_web_major_holders.index and 0 in yahoo_web_major_holders.columns:\n",
    "    print(f\"Yahoo Web Major Holders: {yahoo_web_major_holders.loc[1, 0] / 100:.4f}\")\n",
    "else:\n",
    "    print(\"Yahoo Web Major Holders: % of Shares Held by Institutions data not available.\")"
   ]
  },
  {
   "cell_type": "code",
   "execution_count": null,
   "id": "77",
   "metadata": {},
   "outputs": [],
   "source": [
    "\n",
    "print(\"\\nmarketCap:\")\n",
    "# Yahoo Web Summary\n",
    "if \"marketCap\" in yahoo_web_summary.index:\n",
    "    print(f\"Yahoo Web Summary: {yahoo_web_summary.loc['marketCap', 0]:.2f}\")\n",
    "else:\n",
    "    print(\"Yahoo Web Summary: marketCap data not available.\")\n",
    "# Yahoo Web Valuation Measures\n",
    "if \"Market Cap\" in yahoo_web_valuation_measures.index:\n",
    "    print(f\"Yahoo Web Valuation Measures (Current): {yahoo_web_valuation_measures.loc['Market Cap', 'Current']:.2f}\")\n",
    "else:\n",
    "    print(\"Yahoo Web Valuation Measures: Market Cap data not available.\")"
   ]
  },
  {
   "cell_type": "code",
   "execution_count": null,
   "id": "78",
   "metadata": {},
   "outputs": [],
   "source": [
    "\n",
    "print(\"\\nbeta:\")\n",
    "# Yahoo Web Trading Information\n",
    "if \"Beta (5Y Monthly)\" in yahoo_web_trading_information.index:\n",
    "    print(f\"Yahoo Web Trading Information: {yahoo_web_trading_information.loc['Beta (5Y Monthly)', 'Value']:.2f}\")\n",
    "else:\n",
    "    print(\"Yahoo Web Trading Information: Beta data not available.\")"
   ]
  },
  {
   "cell_type": "code",
   "execution_count": null,
   "id": "79",
   "metadata": {},
   "outputs": [],
   "source": [
    "\n",
    "print(\"\\n--- Holistic Valuation Context ---\")\n",
    "\n",
    "print(\"\\nenterpriseValue:\")\n",
    "# Yahoo Web Valuation Measures\n",
    "if \"Enterprise Value\" in yahoo_web_valuation_measures.index:\n",
    "    print(\n",
    "        f\"Yahoo Web Valuation Measures (Current): {yahoo_web_valuation_measures.loc['Enterprise Value', 'Current']:.2f}\"\n",
    "    )\n",
    "else:\n",
    "    print(\"Yahoo Web Valuation Measures: Enterprise Value data not available.\")\n",
    "\n",
    "# Yahoo Web Summary (specific columns)\n",
    "yahoo_web_summary = _yahoo_web_summary.copy()"
   ]
  }
 ],
 "metadata": {
  "jupytext": {
   "cell_metadata_filter": "-all",
   "main_language": "python",
   "notebook_metadata_filter": "-all"
  },
  "language_info": {
   "name": "python"
  }
 },
 "nbformat": 4,
 "nbformat_minor": 5
}
