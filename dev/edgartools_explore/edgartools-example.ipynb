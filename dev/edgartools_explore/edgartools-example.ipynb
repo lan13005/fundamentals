{
 "cells": [
  {
   "cell_type": "code",
   "execution_count": null,
   "id": "0",
   "metadata": {},
   "outputs": [],
   "source": [
    "import edgar as et\n",
    "import datetime\n",
    "from rich.console import Console\n",
    "import pandas as pd\n",
    "import matplotlib.pyplot as plt\n",
    "import yfinance as yf\n",
    "\n",
    "from edgar.xbrl.xbrl import XBRL\n",
    "from edgar.xbrl import XBRLS\n",
    "\n",
    "console = Console()"
   ]
  },
  {
   "cell_type": "code",
   "execution_count": null,
   "id": "1",
   "metadata": {},
   "outputs": [],
   "source": [
    "et.set_identity(\"lng1492@gmail.com\")"
   ]
  },
  {
   "cell_type": "markdown",
   "id": "2",
   "metadata": {},
   "source": [
    "# Getting filings"
   ]
  },
  {
   "cell_type": "code",
   "execution_count": null,
   "id": "3",
   "metadata": {},
   "outputs": [],
   "source": [
    "ticker = \"AAPL\"\n",
    "company = et.Company(ticker)\n",
    "filings = company.get_filings()\n",
    "filing_df = filings.to_pandas()\n",
    "\n",
    "summary = {\n",
    "    \"ticker\": company.tickers,\n",
    "    \"name\": company.name,\n",
    "    \"industry\": company.industry,\n",
    "    \"mailing_address\": str(company.mailing_address()),\n",
    "    \"cik\": company.cik,\n",
    "    \"sic\": company.sic,\n",
    "    \"exchanges\": company.get_exchanges(),\n",
    "    \"latest_filing_date\": filing_df.filing_date.max().strftime(\"%Y-%m-%d\"),\n",
    "    \"earliest_filing_date\": filing_df.filing_date.min().strftime(\"%Y-%m-%d\"),\n",
    "    \"form_counts\": filing_df.form.value_counts().to_dict() # Dict[str, int]\n",
    "}\n",
    "\n",
    "# edgartools/edgar/ownership/ownershipforms.py\n",
    "#  Form3,4,5 where Ownership class can be converted to Form3,4,5 class using .obj()\n",
    "#  From here I think we can access the information between date ranges also by filtering and looping over Form filings\n",
    "#       converting using .obj() then getting activities, holdings, etc.\n"
   ]
  },
  {
   "cell_type": "code",
   "execution_count": null,
   "id": "4",
   "metadata": {},
   "outputs": [],
   "source": []
  },
  {
   "cell_type": "code",
   "execution_count": null,
   "id": "5",
   "metadata": {},
   "outputs": [],
   "source": [
    "filtered_filings[0]."
   ]
  },
  {
   "cell_type": "code",
   "execution_count": null,
   "id": "6",
   "metadata": {},
   "outputs": [],
   "source": [
    "filtered_filings = filings.filter(form=\"10-K\")\n",
    "merged_df = [filing..to_dataframe() for filing in filtered_filings]\n",
    "merged_df = pd.concat(merged_df)"
   ]
  },
  {
   "cell_type": "code",
   "execution_count": null,
   "id": "7",
   "metadata": {},
   "outputs": [],
   "source": [
    "start_date = merged_df.Date.min()\n",
    "end_date = merged_df.Date.max() + pd.Timedelta(days=1) # yf does not include the last day\n",
    "stock_data = yf.download(ticker, start=start_date, end=end_date)\n",
    "stock_data = stock_data.reset_index()\n",
    "stock_data.columns = stock_data.columns.droplevel(level=1)"
   ]
  },
  {
   "cell_type": "code",
   "execution_count": null,
   "id": "8",
   "metadata": {},
   "outputs": [],
   "source": [
    "filtered_filings = filings.filter(form=\"4\", date=\"2024-01-01:\")\n",
    "merged_df = [filing.obj().to_dataframe() for filing in filtered_filings]\n",
    "merged_df = pd.concat(merged_df)"
   ]
  },
  {
   "cell_type": "code",
   "execution_count": null,
   "id": "9",
   "metadata": {},
   "outputs": [],
   "source": [
    "# Error in get_statements_impl for\n",
    "# ticker=AAPL, \n",
    "# form=10-K, \n",
    "# date=:2024-12-31, \n",
    "# statement=IncomeStatement: \n",
    "# 'NoneType' object has no attribute 'reporting_periods'\"\n",
    "\n",
    "ticker = \"AAPL\"\n",
    "form = \"10-K\"\n",
    "date = \"2020-01-01:2025-12-31\"\n",
    "statement = \"IncomeStatement\"\n",
    "company = et.Company(ticker)\n",
    "filings = company.get_filings()\n",
    "xbrls = XBRLS.from_filings(filings.filter(form=form, date=date))"
   ]
  },
  {
   "cell_type": "code",
   "execution_count": null,
   "id": "10",
   "metadata": {},
   "outputs": [],
   "source": [
    "xbrls.statements['BalanceSheet'].to_dataframe()"
   ]
  },
  {
   "cell_type": "code",
   "execution_count": null,
   "id": "11",
   "metadata": {},
   "outputs": [],
   "source": [
    "x = xbrls.statements['SegmentDisclosure'].render().to_markdown()"
   ]
  },
  {
   "cell_type": "code",
   "execution_count": null,
   "id": "12",
   "metadata": {},
   "outputs": [],
   "source": [
    "statement_type = 'BalanceSheet'\n",
    "statements = xbrls.statements\n",
    "stitched_statement = statements[statement_type]\n",
    "\n",
    "found_stmt_types = set()\n",
    "found_periods = xbrls.get_periods()\n",
    "for xbrl in stitched_statement.xbrls.xbrl_list:\n",
    "    statement = xbrl.get_all_statements()\n",
    "    for stmt in statement:\n",
    "        if stmt['type']:\n",
    "            found_stmt_types.add(stmt['type'])\n",
    "period_count = len(found_periods)\n",
    "assert period_count > 0 and len(found_stmt_types) > 0"
   ]
  },
  {
   "cell_type": "code",
   "execution_count": null,
   "id": "13",
   "metadata": {},
   "outputs": [],
   "source": [
    "comprehensive_income = xbrl.statements[\"StatementOfEquity\"]"
   ]
  },
  {
   "cell_type": "code",
   "execution_count": null,
   "id": "14",
   "metadata": {},
   "outputs": [],
   "source": [
    "type(comprehensive_income)"
   ]
  },
  {
   "cell_type": "code",
   "execution_count": null,
   "id": "15",
   "metadata": {},
   "outputs": [],
   "source": [
    "xbrl.statements['IncomeStatement']"
   ]
  },
  {
   "cell_type": "code",
   "execution_count": null,
   "id": "16",
   "metadata": {},
   "outputs": [],
   "source": [
    "filings = company.get_filings()\n",
    "# filings.get_filings(2024, [3, 4])"
   ]
  },
  {
   "cell_type": "code",
   "execution_count": null,
   "id": "17",
   "metadata": {},
   "outputs": [],
   "source": [
    "company.get_filings().filter(date=\"2025-03-01:\")"
   ]
  },
  {
   "cell_type": "code",
   "execution_count": null,
   "id": "18",
   "metadata": {},
   "outputs": [],
   "source": [
    "import datetime\n",
    "company_insider_filings = company.get_filings(form=[3,4,5])\n",
    "company_insider_filings.filter"
   ]
  },
  {
   "cell_type": "code",
   "execution_count": null,
   "id": "19",
   "metadata": {},
   "outputs": [],
   "source": [
    "company_insider_filings = company.get_filings(form=[3,4,5])\n",
    "company_insider_filings[0].obj() # prints additional information (basically renders the form)\n",
    "# These two produce the same output\n",
    "print(company_insider_filings[0].obj())\n",
    "# console.print(rklb_insider_filings[0].obj().get_ownership_summary())\n",
    "\n",
    "print(f\"rklb_insider_filings[0] type: {type(company_insider_filings[0])}\")\n",
    "print(f\"rklb_insider_filings[0].obj() type: {type(company_insider_filings[0].obj())}\")"
   ]
  },
  {
   "cell_type": "code",
   "execution_count": null,
   "id": "20",
   "metadata": {},
   "outputs": [],
   "source": []
  },
  {
   "cell_type": "code",
   "execution_count": null,
   "id": "21",
   "metadata": {},
   "outputs": [],
   "source": [
    "rklb_filings = rklb.get_filings() # get all filings\n",
    "# rklb_filings[0].open() # opens browser to the filing\n",
    "rklb_10q = rklb.get_filings(form='10-Q') \n",
    "\n",
    "# rklb_filings.data # pyarrow table of filings"
   ]
  },
  {
   "cell_type": "code",
   "execution_count": null,
   "id": "22",
   "metadata": {},
   "outputs": [],
   "source": [
    "rklb_10q[0].accession_number"
   ]
  },
  {
   "cell_type": "code",
   "execution_count": null,
   "id": "23",
   "metadata": {},
   "outputs": [],
   "source": [
    "rklb.get_filings(form='3')[3].view()"
   ]
  },
  {
   "cell_type": "markdown",
   "id": "24",
   "metadata": {},
   "source": [
    "# Facts Metadata"
   ]
  },
  {
   "cell_type": "code",
   "execution_count": null,
   "id": "25",
   "metadata": {},
   "outputs": [],
   "source": [
    "rklb_facts = rklb.get_facts()\n",
    "rklb_facts_df = rklb_facts.to_pandas() # converts pyarrow table to pandas df\n",
    "\n",
    "## Gets metadata about the facts including fact description\n",
    "unique_desc = rklb_facts.fact_meta['description'].value_counts()\n",
    "# for desc in unique_desc[:3]:\n",
    "#     print(desc)"
   ]
  },
  {
   "cell_type": "code",
   "execution_count": null,
   "id": "26",
   "metadata": {},
   "outputs": [],
   "source": [
    "unique_desc"
   ]
  },
  {
   "cell_type": "markdown",
   "id": "27",
   "metadata": {},
   "source": [
    "# Attachments in a filing"
   ]
  },
  {
   "cell_type": "code",
   "execution_count": null,
   "id": "28",
   "metadata": {},
   "outputs": [],
   "source": [
    "# Attachments\n",
    "## Get the attachments for the first 10q filing\n",
    "rklb_10q[0].attachments\n",
    "\n",
    "## Prints the actual text of the attachment 10q\n",
    "# text = rklb_10q[0].attachments[1].text()\n",
    "\n",
    "## Atleast for the 10q attachments, I cant find anything useful\n",
    "# rklb_10q[0].attachments[84].download('.') # download the attachment"
   ]
  },
  {
   "cell_type": "markdown",
   "id": "29",
   "metadata": {},
   "source": [
    "# Financials\n"
   ]
  },
  {
   "cell_type": "markdown",
   "id": "30",
   "metadata": {},
   "source": [
    "Some functionality is deprecated, should use XBRLs instead of i.e. MultiFinancials(filings)"
   ]
  },
  {
   "cell_type": "code",
   "execution_count": null,
   "id": "31",
   "metadata": {},
   "outputs": [],
   "source": [
    "rklb_financials = rklb.get_financials()"
   ]
  },
  {
   "cell_type": "code",
   "execution_count": null,
   "id": "32",
   "metadata": {},
   "outputs": [],
   "source": [
    "# Income Statement\n",
    "rklb_balance_sheet = rklb_financials.balance_sheet()\n",
    "rklb_balance_sheet = rklb_balance_sheet.to_dataframe()\n",
    "\n",
    "rklb_cash_flow = rklb_financials.cashflow_statement()\n",
    "rklb_cash_flow = rklb_cash_flow.to_dataframe()\n",
    "\n",
    "rklb_income_statement = rklb_financials.income_statement()\n",
    "rklb_income_statement = rklb_income_statement.to_dataframe()"
   ]
  },
  {
   "cell_type": "code",
   "execution_count": null,
   "id": "33",
   "metadata": {},
   "outputs": [],
   "source": [
    "from edgar.xbrl.xbrl import XBRL\n",
    "from edgar.xbrl import XBRLS\n",
    "\n",
    "filing = rklb.latest(\"10-K\")\n",
    "xbrl = XBRL.from_filing(filing)\n",
    "rklb_income_statement = xbrl.statements.income_statement()"
   ]
  },
  {
   "cell_type": "code",
   "execution_count": null,
   "id": "34",
   "metadata": {},
   "outputs": [],
   "source": [
    "filings = rklb.latest(\"10-K\", 5)\n",
    "xbrls = XBRLS.from_filings(filings)\n",
    "stitched_statements = xbrls.statements\n",
    "\n",
    "stitched_statements"
   ]
  },
  {
   "cell_type": "code",
   "execution_count": null,
   "id": "35",
   "metadata": {},
   "outputs": [],
   "source": [
    "balance_sheet = stitched_statements.balance_sheet()\n",
    "income_statement = stitched_statements.income_statement()\n",
    "cash_flow = stitched_statements.cashflow_statement()\n",
    "statement_of_equity = stitched_statements.statement_of_equity()\n",
    "\n",
    "# You can also access by type\n",
    "comprehensive_income = stitched_statements[\"ComprehensiveIncome\"]\n",
    "\n",
    "# income_statement.to_dataframe() # converts to pandas df"
   ]
  },
  {
   "cell_type": "code",
   "execution_count": null,
   "id": "36",
   "metadata": {},
   "outputs": [],
   "source": [
    "income_trend = stitched_statements.income_statement(max_periods=3)"
   ]
  },
  {
   "cell_type": "code",
   "execution_count": null,
   "id": "37",
   "metadata": {
    "lines_to_end_of_cell_marker": 2
   },
   "outputs": [],
   "source": [
    "from rich.console import Console\n",
    "console = Console()\n",
    "console.print(stitched_statements.balance_sheet())"
   ]
  },
  {
   "cell_type": "markdown",
   "id": "38",
   "metadata": {},
   "source": [
    "# Insider Trading"
   ]
  },
  {
   "cell_type": "markdown",
   "id": "39",
   "metadata": {},
   "source": [
    "- Form 3: Filed by insiders to report their initial ownership of company stock - typically filed when an insider joins a company or becomes an officer or director.\n",
    "- Form 4: Filed to report any changes in ownership of company stock - typically filed when an insider buys or sells company stock.\n",
    "- Form 5: Includes any transactions that were not reported on Form 4 - typically filed at the end of the fiscal year.\n",
    "\n",
    "NOTE: A \"filing\" is returned as an `edgar.entity.filings.EntityFiling` object. We have to use `.obj()` to convert it get something useful like form4 `edgar.ownership.ownershipforms.Form4`"
   ]
  },
  {
   "cell_type": "code",
   "execution_count": null,
   "id": "40",
   "metadata": {},
   "outputs": [],
   "source": [
    "rklb_insider_filings = rklb.get_filings(form=[3,4,5])"
   ]
  },
  {
   "cell_type": "code",
   "execution_count": null,
   "id": "41",
   "metadata": {},
   "outputs": [],
   "source": [
    "rklb_insider_filings[0].obj() # prints additional information (basically renders the form)"
   ]
  },
  {
   "cell_type": "code",
   "execution_count": null,
   "id": "42",
   "metadata": {
    "lines_to_next_cell": 0
   },
   "outputs": [],
   "source": [
    "# These two produce the same output\n",
    "console.print(rklb_insider_filings[0].obj())\n",
    "# console.print(rklb_insider_filings[0].obj().get_ownership_summary())\n",
    "\n",
    "console.print(f\"rklb_insider_filings[0] type: {type(rklb_insider_filings[0])}\")\n",
    "console.print(f\"rklb_insider_filings[0].obj() type: {type(rklb_insider_filings[0].obj())}\")"
   ]
  },
  {
   "cell_type": "code",
   "execution_count": null,
   "id": "43",
   "metadata": {},
   "outputs": [],
   "source": []
  }
 ],
 "metadata": {
  "kernelspec": {
   "display_name": ".venv",
   "language": "python",
   "name": "python3"
  },
  "language_info": {
   "codemirror_mode": {
    "name": "ipython",
    "version": 3
   },
   "file_extension": ".py",
   "mimetype": "text/x-python",
   "name": "python",
   "nbconvert_exporter": "python",
   "pygments_lexer": "ipython3",
   "version": "3.13.3"
  }
 },
 "nbformat": 4,
 "nbformat_minor": 5
}
