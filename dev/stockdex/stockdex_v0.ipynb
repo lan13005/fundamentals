{
 "cells": [
  {
   "cell_type": "code",
   "execution_count": null,
   "id": "0",
   "metadata": {},
   "outputs": [],
   "source": [
    "from stockdex import Ticker\n",
    "from datetime import datetime\n",
    "\n",
    "ticker = Ticker(ticker=\"AAPL\")"
   ]
  },
  {
   "cell_type": "code",
   "execution_count": null,
   "id": "1",
   "metadata": {},
   "outputs": [],
   "source": [
    "# Price data (use range and dataGranularity to make range and granularity more specific) from Yahoo Finance API\n",
    "ticker.yahoo_api_price(range='1y', dataGranularity='1d')\n",
    "\n",
    "# # plot financial data using Plotly\n",
    "# ticker = Ticker(ticker=\"MSFT\")\n",
    "# ticker.plot_yahoo_api_financials(group_by=\"field\")"
   ]
  },
  {
   "cell_type": "code",
   "execution_count": null,
   "id": "2",
   "metadata": {},
   "outputs": [],
   "source": [
    "\n",
    "# Complete historical data of the stock in certain categories from digrin website\n",
    "ticker.digrin_dividend"
   ]
  },
  {
   "cell_type": "code",
   "execution_count": null,
   "id": "3",
   "metadata": {},
   "outputs": [],
   "source": [
    "\n",
    "# Financial data from macrotrends website\n",
    "ticker.macrotrends_income_statement"
   ]
  },
  {
   "cell_type": "code",
   "execution_count": null,
   "id": "4",
   "metadata": {},
   "outputs": [],
   "source": [
    "\n",
    "# Summary including general financial information from Yahoo Finance website\n",
    "ticker.yahoo_web_summary\n",
    "\n",
    "# # Yahoo Finance Data"
   ]
  },
  {
   "cell_type": "code",
   "execution_count": null,
   "id": "5",
   "metadata": {},
   "outputs": [],
   "source": [
    "\n",
    "# Current trading period of the stock (pre-market, regular, post-market trading periods)\n",
    "ticker.yahoo_api_current_trading_period"
   ]
  },
  {
   "cell_type": "code",
   "execution_count": null,
   "id": "6",
   "metadata": {},
   "outputs": [],
   "source": [
    "\n",
    "# Fundamental data (use frequency, format, period1 and period2 to fine-tune the returned data)\n",
    "ticker.yahoo_api_income_statement(frequency='quarterly')"
   ]
  },
  {
   "cell_type": "code",
   "execution_count": null,
   "id": "7",
   "metadata": {},
   "outputs": [],
   "source": [
    "\n",
    "ticker.yahoo_api_cash_flow(format='raw') # [\"annualFreeCashFlow\"]"
   ]
  },
  {
   "cell_type": "code",
   "execution_count": null,
   "id": "8",
   "metadata": {},
   "outputs": [],
   "source": [
    "\n",
    "ticker.yahoo_api_balance_sheet(period1=datetime(2019, 1, 1)) # still max 5 years in API"
   ]
  },
  {
   "cell_type": "code",
   "execution_count": null,
   "id": "9",
   "metadata": {},
   "outputs": [],
   "source": [
    "\n",
    "ticker.yahoo_api_financials(period1=datetime(2022, 1, 1), period2=datetime.today())"
   ]
  },
  {
   "cell_type": "code",
   "execution_count": null,
   "id": "10",
   "metadata": {},
   "outputs": [],
   "source": [
    "\n",
    "# ticker.plot_yahoo_api_financials(group_by=\"field\")"
   ]
  },
  {
   "cell_type": "code",
   "execution_count": null,
   "id": "11",
   "metadata": {},
   "outputs": [],
   "source": [
    "\n",
    "# ticker.plot_yahoo_api_income_statement(group_by=\"timeframe\")"
   ]
  },
  {
   "cell_type": "code",
   "execution_count": null,
   "id": "12",
   "metadata": {},
   "outputs": [],
   "source": [
    "\n",
    "# ticker.plot_yahoo_api_cash_flow(frequency=\"quarterly\")"
   ]
  },
  {
   "cell_type": "code",
   "execution_count": null,
   "id": "13",
   "metadata": {},
   "outputs": [],
   "source": [
    "# ticker.plot_yahoo_api_balance_sheet(frequency=\"quarterly\")"
   ]
  },
  {
   "cell_type": "markdown",
   "id": "14",
   "metadata": {},
   "source": [
    "# Sankey Chart"
   ]
  },
  {
   "cell_type": "code",
   "execution_count": null,
   "id": "15",
   "metadata": {},
   "outputs": [],
   "source": [
    "# ticker.plot_sankey_chart()"
   ]
  },
  {
   "cell_type": "markdown",
   "id": "16",
   "metadata": {},
   "source": [
    "# Summary"
   ]
  },
  {
   "cell_type": "code",
   "execution_count": null,
   "id": "17",
   "metadata": {},
   "outputs": [],
   "source": [
    "\n",
    "# Summary including general financial information\n",
    "ticker.yahoo_web_summary"
   ]
  },
  {
   "cell_type": "code",
   "execution_count": null,
   "id": "18",
   "metadata": {},
   "outputs": [],
   "source": [
    "\n",
    "# Financial data as it is seen in the yahoo finance website\n",
    "ticker.yahoo_web_income_stmt"
   ]
  },
  {
   "cell_type": "code",
   "execution_count": null,
   "id": "19",
   "metadata": {},
   "outputs": [],
   "source": [
    "\n",
    "ticker.yahoo_web_balance_sheet"
   ]
  },
  {
   "cell_type": "code",
   "execution_count": null,
   "id": "20",
   "metadata": {},
   "outputs": [],
   "source": [
    "\n",
    "ticker.yahoo_web_cashflow"
   ]
  },
  {
   "cell_type": "code",
   "execution_count": null,
   "id": "21",
   "metadata": {},
   "outputs": [],
   "source": [
    "\n",
    "# Analysts and estimates\n",
    "ticker.yahoo_web_valuation_measures"
   ]
  },
  {
   "cell_type": "code",
   "execution_count": null,
   "id": "22",
   "metadata": {},
   "outputs": [],
   "source": [
    "\n",
    "# Data about options\n",
    "ticker.yahoo_web_calls"
   ]
  },
  {
   "cell_type": "code",
   "execution_count": null,
   "id": "23",
   "metadata": {},
   "outputs": [],
   "source": [
    "\n",
    "ticker.yahoo_web_puts"
   ]
  },
  {
   "cell_type": "code",
   "execution_count": null,
   "id": "24",
   "metadata": {},
   "outputs": [],
   "source": [
    "\n",
    "ticker.yahoo_web_description"
   ]
  },
  {
   "cell_type": "code",
   "execution_count": null,
   "id": "25",
   "metadata": {},
   "outputs": [],
   "source": [
    "ticker.yahoo_web_corporate_governance"
   ]
  },
  {
   "cell_type": "code",
   "execution_count": null,
   "id": "26",
   "metadata": {},
   "outputs": [],
   "source": [
    "\n",
    "ticker.yahoo_web_major_holders"
   ]
  },
  {
   "cell_type": "code",
   "execution_count": null,
   "id": "27",
   "metadata": {},
   "outputs": [],
   "source": [
    "\n",
    "ticker.yahoo_web_top_institutional_holders"
   ]
  },
  {
   "cell_type": "code",
   "execution_count": null,
   "id": "28",
   "metadata": {},
   "outputs": [],
   "source": [
    "\n",
    "ticker.yahoo_web_top_mutual_fund_holders"
   ]
  },
  {
   "cell_type": "code",
   "execution_count": null,
   "id": "29",
   "metadata": {},
   "outputs": [],
   "source": [
    "\n",
    "ticker.yahoo_web_valuation_measures"
   ]
  },
  {
   "cell_type": "code",
   "execution_count": null,
   "id": "30",
   "metadata": {},
   "outputs": [],
   "source": [
    "\n",
    "ticker.yahoo_web_trading_information"
   ]
  },
  {
   "cell_type": "markdown",
   "id": "31",
   "metadata": {},
   "source": [
    "# Digrin Data"
   ]
  },
  {
   "cell_type": "code",
   "execution_count": null,
   "id": "32",
   "metadata": {},
   "outputs": [],
   "source": [
    "# Complete historical data of the stock in certain categories\n",
    "ticker.digrin_dividend"
   ]
  },
  {
   "cell_type": "code",
   "execution_count": null,
   "id": "33",
   "metadata": {},
   "outputs": [],
   "source": [
    "\n",
    "ticker.digrin_payout_ratio"
   ]
  },
  {
   "cell_type": "code",
   "execution_count": null,
   "id": "34",
   "metadata": {},
   "outputs": [],
   "source": [
    "\n",
    "ticker.digrin_stock_splits"
   ]
  },
  {
   "cell_type": "code",
   "execution_count": null,
   "id": "35",
   "metadata": {},
   "outputs": [],
   "source": [
    "\n",
    "ticker.digrin_price"
   ]
  },
  {
   "cell_type": "code",
   "execution_count": null,
   "id": "36",
   "metadata": {},
   "outputs": [],
   "source": [
    "ticker.digrin_assets_vs_liabilities"
   ]
  },
  {
   "cell_type": "code",
   "execution_count": null,
   "id": "37",
   "metadata": {},
   "outputs": [],
   "source": [
    "ticker.digrin_free_cash_flow"
   ]
  },
  {
   "cell_type": "code",
   "execution_count": null,
   "id": "38",
   "metadata": {},
   "outputs": [],
   "source": [
    "\n",
    "ticker.digrin_net_income"
   ]
  },
  {
   "cell_type": "code",
   "execution_count": null,
   "id": "39",
   "metadata": {},
   "outputs": [],
   "source": [
    "\n",
    "ticker.digrin_cash_and_debt"
   ]
  },
  {
   "cell_type": "code",
   "execution_count": null,
   "id": "40",
   "metadata": {},
   "outputs": [],
   "source": [
    "\n",
    "ticker.digrin_shares_outstanding"
   ]
  },
  {
   "cell_type": "code",
   "execution_count": null,
   "id": "41",
   "metadata": {},
   "outputs": [],
   "source": [
    "\n",
    "ticker.digrin_expenses"
   ]
  },
  {
   "cell_type": "code",
   "execution_count": null,
   "id": "42",
   "metadata": {},
   "outputs": [],
   "source": [
    "\n",
    "ticker.digrin_cost_of_revenue"
   ]
  },
  {
   "cell_type": "code",
   "execution_count": null,
   "id": "43",
   "metadata": {},
   "outputs": [],
   "source": [
    "\n",
    "ticker.digrin_upcoming_estimated_earnings"
   ]
  },
  {
   "cell_type": "code",
   "execution_count": null,
   "id": "44",
   "metadata": {},
   "outputs": [],
   "source": [
    "\n",
    "# Dividend data\n",
    "ticker.digrin_dividend"
   ]
  },
  {
   "cell_type": "code",
   "execution_count": null,
   "id": "45",
   "metadata": {},
   "outputs": [],
   "source": [
    "\n",
    "ticker.digrin_dgr3"
   ]
  },
  {
   "cell_type": "code",
   "execution_count": null,
   "id": "46",
   "metadata": {},
   "outputs": [],
   "source": [
    "\n",
    "ticker.digrin_dgr5"
   ]
  },
  {
   "cell_type": "code",
   "execution_count": null,
   "id": "47",
   "metadata": {},
   "outputs": [],
   "source": [
    "\n",
    "ticker.digrin_dgr10"
   ]
  },
  {
   "cell_type": "markdown",
   "id": "48",
   "metadata": {},
   "source": [
    "# Plotting"
   ]
  },
  {
   "cell_type": "code",
   "execution_count": null,
   "id": "49",
   "metadata": {},
   "outputs": [],
   "source": [
    "# ticker.plot_digrin_shares_outstanding()\n",
    "# ticker.plot_digrin_price()\n",
    "# ticker.plot_digrin_dividend()\n",
    "# ticker.plot_digrin_assets_vs_liabilities()\n",
    "# ticker.plot_digrin_free_cash_flow()\n",
    "# ticker.plot_digrin_cash_and_debt()\n",
    "# ticker.plot_digrin_net_income()\n",
    "# ticker.plot_digrin_expenses()\n",
    "# ticker.plot_digrin_cost_of_revenue()\n",
    "\n",
    "\n",
    "# ticker.plot_digrin_price()"
   ]
  },
  {
   "cell_type": "markdown",
   "id": "50",
   "metadata": {},
   "source": [
    "# Macrotrends Data"
   ]
  },
  {
   "cell_type": "code",
   "execution_count": null,
   "id": "51",
   "metadata": {},
   "outputs": [],
   "source": [
    "\n",
    "# Financial data\n",
    "ticker.macrotrends_income_statement"
   ]
  },
  {
   "cell_type": "code",
   "execution_count": null,
   "id": "52",
   "metadata": {},
   "outputs": [],
   "source": [
    "ticker.macrotrends_balance_sheet"
   ]
  },
  {
   "cell_type": "code",
   "execution_count": null,
   "id": "53",
   "metadata": {},
   "outputs": [],
   "source": [
    "ticker.macrotrends_cash_flow"
   ]
  },
  {
   "cell_type": "code",
   "execution_count": null,
   "id": "54",
   "metadata": {},
   "outputs": [],
   "source": [
    "\n",
    "# Margins\n",
    "ticker.macrotrends_gross_margin"
   ]
  },
  {
   "cell_type": "code",
   "execution_count": null,
   "id": "55",
   "metadata": {},
   "outputs": [],
   "source": [
    "ticker.macrotrends_operating_margin"
   ]
  },
  {
   "cell_type": "code",
   "execution_count": null,
   "id": "56",
   "metadata": {},
   "outputs": [],
   "source": [
    "ticker.macrotrends_ebitda_margin"
   ]
  },
  {
   "cell_type": "code",
   "execution_count": null,
   "id": "57",
   "metadata": {},
   "outputs": [],
   "source": [
    "ticker.macrotrends_pre_tax_margin"
   ]
  },
  {
   "cell_type": "code",
   "execution_count": null,
   "id": "58",
   "metadata": {},
   "outputs": [],
   "source": [
    "ticker.macrotrends_net_margin"
   ]
  },
  {
   "cell_type": "code",
   "execution_count": null,
   "id": "59",
   "metadata": {},
   "outputs": [],
   "source": [
    "\n",
    "# ticker.plot_macrotrends_income_statement()\n",
    "# ticker.plot_macrotrends_balance_sheet()\n",
    "# ticker.plot_macrotrends_cash_flow()\n",
    "\n",
    "\n",
    "# # Dashboards\n",
    "\n",
    "# from stockdex.ticker import Ticker\n",
    "# from stockdex.lib import plot_multiple_categories\n",
    "\n",
    "# # choose the stock\n",
    "# ticker = Ticker(ticker=\"MSFT\")\n",
    "\n",
    "# # Here you will choose arbitrary figures to plot. In this example we will plot data extracted from digrin website\n",
    "# # IMPORTANT: make sure to set show_plot=False in each function to return the plotly figure object instead of showing the plot. Not setting this parameter will show the plots in separate tabs.\n",
    "# figures = [\n",
    "#     ticker.plot_digrin_shares_outstanding(show_plot=False),\n",
    "#     ticker.plot_digrin_price(show_plot=False),\n",
    "#     ticker.plot_digrin_dividend(show_plot=False),\n",
    "#     ticker.plot_digrin_assets_vs_liabilities(show_plot=False),\n",
    "#     ticker.plot_digrin_free_cash_flow(show_plot=False),\n",
    "#     ticker.plot_digrin_net_income(show_plot=False),\n",
    "#     ticker.plot_digrin_cash_and_debt(show_plot=False),\n",
    "#     ticker.plot_digrin_expenses(show_plot=False),\n",
    "#     ticker.plot_digrin_cost_of_revenue(show_plot=False),\n",
    "# ]\n",
    "\n",
    "# # main functions that will create the dash app\n",
    "# plot_multiple_categories(ticker=ticker.ticker, figures=figures)"
   ]
  }
 ],
 "metadata": {
  "kernelspec": {
   "display_name": ".venv",
   "language": "python",
   "name": "python3"
  },
  "language_info": {
   "codemirror_mode": {
    "name": "ipython",
    "version": 3
   },
   "file_extension": ".py",
   "mimetype": "text/x-python",
   "name": "python",
   "nbconvert_exporter": "python",
   "pygments_lexer": "ipython3",
   "version": "3.13.3"
  }
 },
 "nbformat": 4,
 "nbformat_minor": 5
}
