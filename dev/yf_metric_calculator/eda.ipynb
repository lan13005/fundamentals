{
 "cells": [
  {
   "cell_type": "code",
   "execution_count": null,
   "metadata": {},
   "outputs": [],
   "source": [
    "import pandas as pd\n",
    "import matplotlib.pyplot as plt\n",
    "import numpy as np\n",
    "import yfinance as yf\n",
    "\n",
    "company_info = pd.read_csv(\"yahoo_company_info_orig.csv\")\n",
    "company_info = company_info.sort_values('marketCap', ascending=False).reset_index(drop=True)\n",
    "\n",
    "# This should be removed once we recreate our initial csv\n",
    "# yfinance growth metrics kinda suck?\n",
    "remove_keys = ['pegRatio', 'overallRisk', 'auditRisk', 'boardRisk', 'compensationRisk', 'shareHolderRightsRisk', \n",
    "               'revenueGrowth', 'earningsGrowth', 'earningsQuarterlyGrowth']\n",
    "company_info = company_info.drop(remove_keys, axis=1)"
   ]
  },
  {
   "cell_type": "code",
   "execution_count": null,
   "metadata": {},
   "outputs": [],
   "source": [
    "company = yf.Ticker(\"MSFT\")\n",
    "\n",
    "# company_5quarter_metrics = pd.concat([company.quarterly_income_stmt, company.quarterly_balance_sheet, company.quarterly_cashflow], join='inner')\n",
    "# company_5quarter_metrics.loc[['Capital Expenditure Reported', 'Operating Cash Flow']]\n",
    "# for v in company_5quarter_metrics.index:\n",
    "#     print(v)"
   ]
  },
  {
   "cell_type": "code",
   "execution_count": null,
   "metadata": {},
   "outputs": [],
   "source": [
    "cs = []\n",
    "for c in company.balance_sheet.index:\n",
    "    if 'debt' in c.lower():\n",
    "        cs.append(c)\n",
    "company.balance_sheet.loc[cs]\n"
   ]
  },
  {
   "cell_type": "code",
   "execution_count": null,
   "metadata": {},
   "outputs": [],
   "source": [
    "company.income_stmt.loc['Basic EPS'][0], company.income_stmt.loc['Basic EPS'][3]"
   ]
  },
  {
   "cell_type": "code",
   "execution_count": null,
   "metadata": {},
   "outputs": [],
   "source": [
    "(company.income_stmt.loc['Basic EPS'][0]/company.income_stmt.loc['Basic EPS'][3])**(1/3) - 1"
   ]
  },
  {
   "cell_type": "code",
   "execution_count": null,
   "metadata": {},
   "outputs": [],
   "source": [
    "company.quarterly_balance_sheet"
   ]
  },
  {
   "cell_type": "code",
   "execution_count": null,
   "metadata": {},
   "outputs": [],
   "source": []
  },
  {
   "cell_type": "code",
   "execution_count": null,
   "metadata": {},
   "outputs": [],
   "source": [
    "company.quarterly_balance_sheet"
   ]
  },
  {
   "cell_type": "code",
   "execution_count": null,
   "metadata": {},
   "outputs": [],
   "source": [
    "company.quarterly_balance_sheet"
   ]
  },
  {
   "cell_type": "code",
   "execution_count": null,
   "metadata": {},
   "outputs": [],
   "source": [
    "company.quarterly_income_stmt.loc['Basic EPS']"
   ]
  },
  {
   "cell_type": "code",
   "execution_count": null,
   "metadata": {},
   "outputs": [],
   "source": [
    "company.quarterly_income_stmt.loc[\"Net Income\"]"
   ]
  },
  {
   "cell_type": "code",
   "execution_count": null,
   "metadata": {},
   "outputs": [],
   "source": [
    "company.info['earningsGrowth']"
   ]
  },
  {
   "cell_type": "code",
   "execution_count": null,
   "metadata": {},
   "outputs": [],
   "source": [
    "company.quarterly_balance_sheet"
   ]
  },
  {
   "cell_type": "code",
   "execution_count": null,
   "metadata": {},
   "outputs": [],
   "source": [
    "def safe_get(df, keys):\n",
    "    if isinstance(keys, str):\n",
    "        keys = [keys]\n",
    "    for key in keys:\n",
    "        try:\n",
    "            return df.loc[key].iloc[0]\n",
    "        except Exception:\n",
    "            continue\n",
    "    return None\n",
    "\n",
    "info = company.info\n",
    "metrics = {}\n",
    "\n",
    "ttm_equity = safe_get(company.quarterly_balance_sheet, [\"Total Stockholder Equity\", \"Total Equity\"])"
   ]
  },
  {
   "cell_type": "code",
   "execution_count": null,
   "metadata": {},
   "outputs": [],
   "source": [
    "ttm_equity"
   ]
  },
  {
   "cell_type": "code",
   "execution_count": null,
   "metadata": {},
   "outputs": [],
   "source": [
    "# provides Ex-Dividend Dates and are not aligned with quarterly schedule\n",
    "# Would need Annualized Dividend Per Share and divide by stock price\n",
    "company.dividends "
   ]
  },
  {
   "cell_type": "code",
   "execution_count": null,
   "metadata": {},
   "outputs": [],
   "source": [
    "# Initial Filters\n",
    "# 1. company: company nane can be NaN, these companies are insignificant\n",
    "# 2. returnOnEquity: NaN means its either a newer/delisted company\n",
    "# 3. returnOnAssets: NaN means its either a newer/delisted company\n",
    "# 4. heldPercentInsiders: Appear to be smaller companies or very new\n",
    "# There are lots of companies with\n",
    "# - trailingPE attempts to answer \"How many times are investors willing to pay for each dollar of the company's earnings?\"\n",
    "#   Therefore a negative EPS is meaningless for this question.\n",
    "#   We should probably calculate this\n",
    "# - forwardPE can also be NaN if expected future EPS if <= 0.\n",
    "drop_na = ['company', 'returnOnEquity', 'returnOnAssets', 'marketCap',\n",
    "           'heldPercentInsiders', 'heldPercentInstitutions', 'trailingPE']\n",
    "company_info = company_info.dropna(subset=drop_na)\n",
    "\n",
    "# yfinance sets dividendYield to NaN even though 0 makes perfect sense\n",
    "company_info['dividendYield'] = company_info['dividendYield'].fillna(0)\n",
    "company_info['fiveYearAvgDividendYield'] = company_info['fiveYearAvgDividendYield'].fillna(0)\n",
    "\n",
    "# - freeCashflow can have a lot of NaNs ()\n",
    "# - enterpriseToEbitda also has a lot of NaNs, Remove metric\n",
    "drop_for_now = ['freeCashflow', 'enterpriseToEbitda', 'debtToEquity', # important to calculate but lots missing\n",
    "                'beta', # somewhat important but ARM is somehow missing\n",
    "                'forwardPE', 'payoutRatio']\n",
    "company_info = company_info.dropna(subset=drop_for_now)"
   ]
  },
  {
   "cell_type": "code",
   "execution_count": null,
   "metadata": {},
   "outputs": [],
   "source": [
    "company_info.columns"
   ]
  },
  {
   "cell_type": "code",
   "execution_count": null,
   "metadata": {},
   "outputs": [],
   "source": [
    "for col in company_info.columns:\n",
    "    percent_na = company_info[col].isna().sum() / len(company_info)\n",
    "    print(f\"{col} has {percent_na:0.5f} NaN rows\")"
   ]
  },
  {
   "cell_type": "code",
   "execution_count": null,
   "metadata": {},
   "outputs": [],
   "source": [
    "company_info[company_info['beta'].isna()]"
   ]
  },
  {
   "cell_type": "code",
   "execution_count": null,
   "metadata": {},
   "outputs": [],
   "source": [
    "company_info.query('marketCap >= 1_000_000_000')"
   ]
  },
  {
   "cell_type": "code",
   "execution_count": null,
   "metadata": {},
   "outputs": [],
   "source": []
  }
 ],
 "metadata": {
  "kernelspec": {
   "display_name": ".venv",
   "language": "python",
   "name": "python3"
  },
  "language_info": {
   "codemirror_mode": {
    "name": "ipython",
    "version": 3
   },
   "file_extension": ".py",
   "mimetype": "text/x-python",
   "name": "python",
   "nbconvert_exporter": "python",
   "pygments_lexer": "ipython3",
   "version": "3.13.3"
  }
 },
 "nbformat": 4,
 "nbformat_minor": 2
}
