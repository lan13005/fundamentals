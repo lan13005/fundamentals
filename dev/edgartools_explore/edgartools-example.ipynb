{
 "cells": [
  {
   "cell_type": "code",
   "execution_count": 1,
   "id": "6ce1607a",
   "metadata": {},
   "outputs": [],
   "source": [
    "import edgar as et\n",
    "import datetime\n",
    "from rich.console import Console\n",
    "import pandas as pd\n",
    "import matplotlib.pyplot as plt\n",
    "import yfinance as yf\n",
    "\n",
    "from edgar.xbrl.xbrl import XBRL\n",
    "from edgar.xbrl import XBRLS\n",
    "\n",
    "console = Console()"
   ]
  },
  {
   "cell_type": "code",
   "execution_count": 2,
   "id": "3777b264",
   "metadata": {},
   "outputs": [],
   "source": [
    "et.set_identity(\"lng1492@gmail.com\")"
   ]
  },
  {
   "cell_type": "markdown",
   "id": "04d26142",
   "metadata": {},
   "source": [
    "# Getting filings"
   ]
  },
  {
   "cell_type": "code",
   "execution_count": 3,
   "id": "6e6eeebd",
   "metadata": {},
   "outputs": [],
   "source": [
    "ticker = \"AAPL\"\n",
    "company = et.Company(ticker)\n",
    "filings = company.get_filings()\n",
    "filing_df = filings.to_pandas()\n",
    "\n",
    "summary = {\n",
    "    \"ticker\": company.tickers,\n",
    "    \"name\": company.name,\n",
    "    \"industry\": company.industry,\n",
    "    \"mailing_address\": str(company.mailing_address()),\n",
    "    \"cik\": company.cik,\n",
    "    \"sic\": company.sic,\n",
    "    \"exchanges\": company.get_exchanges(),\n",
    "    \"latest_filing_date\": filing_df.filing_date.max().strftime(\"%Y-%m-%d\"),\n",
    "    \"earliest_filing_date\": filing_df.filing_date.min().strftime(\"%Y-%m-%d\"),\n",
    "    \"form_counts\": filing_df.form.value_counts().to_dict() # Dict[str, int]\n",
    "}\n",
    "\n",
    "# edgartools/edgar/ownership/ownershipforms.py\n",
    "#  Form3,4,5 where Ownership class can be converted to Form3,4,5 class using .obj()\n",
    "#  From here I think we can access the information between date ranges also by filtering and looping over Form filings\n",
    "#       converting using .obj() then getting activities, holdings, etc.\n"
   ]
  },
  {
   "cell_type": "code",
   "execution_count": 341,
   "id": "79669aa6",
   "metadata": {},
   "outputs": [
    {
     "name": "stderr",
     "output_type": "stream",
     "text": [
      "[*********************100%***********************]  1 of 1 completed\n"
     ]
    }
   ],
   "source": [
    "start_date = merged_df.Date.min()\n",
    "end_date = merged_df.Date.max() + pd.Timedelta(days=1) # yf does not include the last day\n",
    "stock_data = yf.download(ticker, start=start_date, end=end_date)\n",
    "stock_data = stock_data.reset_index()\n",
    "stock_data.columns = stock_data.columns.droplevel(level=1)"
   ]
  },
  {
   "cell_type": "code",
   "execution_count": 384,
   "id": "ab59bb99",
   "metadata": {},
   "outputs": [
    {
     "name": "stderr",
     "output_type": "stream",
     "text": [
      "/var/folders/ts/2jhss7kj1tscv_5m2lmt1nt40000gn/T/ipykernel_63639/3798971565.py:3: FutureWarning:\n",
      "\n",
      "The behavior of DataFrame concatenation with empty or all-NA entries is deprecated. In a future version, this will no longer exclude empty or all-NA columns when determining the result dtypes. To retain the old behavior, exclude the relevant entries before the concat operation.\n",
      "\n"
     ]
    }
   ],
   "source": [
    "filtered_filings = filings.filter(form=\"4\", date=\"2024-01-01:\")\n",
    "merged_df = [filing.obj().to_dataframe() for filing in filtered_filings]\n",
    "merged_df = pd.concat(merged_df)"
   ]
  },
  {
   "cell_type": "code",
   "execution_count": 26,
   "id": "42fab38f",
   "metadata": {},
   "outputs": [],
   "source": [
    "# Error in get_statements_impl for\n",
    "# ticker=AAPL, \n",
    "# form=10-K, \n",
    "# date=:2024-12-31, \n",
    "# statement=IncomeStatement: \n",
    "# 'NoneType' object has no attribute 'reporting_periods'\"\n",
    "\n",
    "ticker = \"AAPL\"\n",
    "form = \"10-K\"\n",
    "date = \"2024-01-01:2024-12-31\"\n",
    "statement = \"IncomeStatement\"\n",
    "company = et.Company(ticker)\n",
    "filings = company.get_filings()\n",
    "xbrls = XBRLS.from_filings(filings.filter(form=form, date=date))"
   ]
  },
  {
   "cell_type": "code",
   "execution_count": 2,
   "id": "dcd80ae4",
   "metadata": {},
   "outputs": [
    {
     "name": "stdout",
     "output_type": "stream",
     "text": [
      "LLM prompt failed for ticker=ENPH, form=10-K, date=2020-01-01:, statement=IncomeStatement: Method not found\n",
      "Traceback:\n",
      "Traceback (most recent call last):\n",
      "  File \"/Users/lawrenceng/WORK/fundamentals/fundamentals/fundamentals/tools.py\", line 206, in summarize_financial_report_impl\n",
      "    response = await ctx.sample(prompt)\n",
      "               ^^^^^^^^^^^^^^^^^^^^^^^^\n",
      "  File \"/Users/lawrenceng/WORK/fundamentals/fundamentals/.venv/lib/python3.13/site-packages/fastmcp/server/context.py\", line 226, in sample\n",
      "    result: CreateMessageResult = await self.request_context.session.create_message(\n",
      "                                  ^^^^^^^^^^^^^^^^^^^^^^^^^^^^^^^^^^^^^^^^^^^^^^^^^^\n",
      "    ...<4 lines>...\n",
      "    )\n",
      "    ^\n",
      "  File \"/Users/lawrenceng/WORK/fundamentals/fundamentals/.venv/lib/python3.13/site-packages/mcp/server/session.py\", line 240, in create_message\n",
      "    return await self.send_request(\n",
      "           ^^^^^^^^^^^^^^^^^^^^^^^^\n",
      "    ...<19 lines>...\n",
      "    )\n",
      "    ^\n",
      "  File \"/Users/lawrenceng/WORK/fundamentals/fundamentals/.venv/lib/python3.13/site-packages/mcp/shared/session.py\", line 294, in send_request\n",
      "    raise McpError(response_or_error.error)\n",
      "mcp.shared.exceptions.McpError: Method not found\n",
      "\n"
     ]
    }
   ],
   "source": [
    "print(a)"
   ]
  },
  {
   "cell_type": "code",
   "execution_count": 29,
   "id": "753efeb9",
   "metadata": {},
   "outputs": [
    {
     "name": "stdout",
     "output_type": "stream",
     "text": [
      "Stitching statements...\n"
     ]
    },
    {
     "data": {
      "text/html": [
       "<pre style=\"white-space:pre;overflow-x:auto;line-height:normal;font-family:Menlo,'DejaVu Sans Mono',consolas,'Courier New',monospace\"></pre>\n"
      ],
      "text/plain": []
     },
     "metadata": {},
     "output_type": "display_data"
    },
    {
     "data": {
      "text/plain": [
       "\u001b[3m                                     CONSOLIDATED BALANCE SHEET (Standardized)                                     \u001b[0m\n",
       "\u001b[3m                            \u001b[0m\u001b[1;3mFiscal Year Ended\u001b[0m\u001b[3m \u001b[0m\u001b[3m(In millions, except shares in thousands)\u001b[0m\u001b[3m                            \u001b[0m\n",
       "                                                                                                                   \n",
       " \u001b[1m \u001b[0m\u001b[1m                                                                                                \u001b[0m\u001b[1m \u001b[0m \u001b[1m \u001b[0m\u001b[1mSep 28, 2024\u001b[0m\u001b[1m \u001b[0m \n",
       " ───────────────────────────────────────────────────────────────────────────────────────────────────────────────── \n",
       "      Commitments and contingencies                                                                                \n",
       "      Common stock, shares issued (in shares)                                                          15,116,786  \n",
       "      Common stock, shares outstanding (in shares)                                                     15,116,786  \n",
       "      Total Assets                                                                                       $364,980  \n",
       "      Total Liabilities                                                                                  $308,030  \n",
       "      Total liabilities and shareholders’ equity                                                         $364,980  \n",
       "        Accounts Payable                                                                                  $68,960  \n",
       "        Accounts receivable, net                                                                          $33,410  \n",
       "        Accumulated deficit                                                                             $(19,154)  \n",
       "        Accumulated other comprehensive loss                                                             $(7,172)  \n",
       "        Cash and Cash Equivalents                                                                         $29,943  \n",
       "        Commercial paper                                                                                   $9,967  \n",
       "        Common stock and additional paid-in capital, $0.00001 par value: 50,400,000 shares                $83,276  \n",
       "  authorized; 15,116,786 and 15,550,061 shares issued and outstanding, respectively                                \n",
       "        Inventories                                                                                        $7,286  \n",
       "        Marketable securities                                                                             $91,479  \n",
       "        Other current assets                                                                              $14,287  \n",
       "        Other current liabilities                                                                         $78,304  \n",
       "        Other non-current assets                                                                          $74,834  \n",
       "        Other non-current liabilities                                                                     $45,888  \n",
       "        Property, Plant and Equipment                                                                     $45,680  \n",
       "        Revenue                                                                                            $8,249  \n",
       "        Term debt                                                                                         $85,750  \n",
       "        Total Current Assets                                                                             $211,993  \n",
       "        Total Current Liabilities                                                                        $131,638  \n",
       "        Total Stockholders' Equity                                                                        $56,950  \n",
       "        Vendor non-trade receivables                                                                      $32,833  \n",
       "                                                                                                                   "
      ]
     },
     "execution_count": 29,
     "metadata": {},
     "output_type": "execute_result"
    }
   ],
   "source": [
    "xbrls.statements['BalanceSheet']"
   ]
  },
  {
   "cell_type": "code",
   "execution_count": 136,
   "id": "e42778f5",
   "metadata": {},
   "outputs": [
    {
     "data": {
      "text/html": [
       "<pre style=\"white-space:pre;overflow-x:auto;line-height:normal;font-family:Menlo,'DejaVu Sans Mono',consolas,'Courier New',monospace\"></pre>\n"
      ],
      "text/plain": []
     },
     "metadata": {},
     "output_type": "display_data"
    },
    {
     "data": {
      "text/html": [
       "<pre style=\"white-space:pre;overflow-x:auto;line-height:normal;font-family:Menlo,'DejaVu Sans Mono',consolas,'Courier New',monospace\"></pre>\n"
      ],
      "text/plain": []
     },
     "metadata": {},
     "output_type": "display_data"
    },
    {
     "data": {
      "text/html": [
       "<pre style=\"white-space:pre;overflow-x:auto;line-height:normal;font-family:Menlo,'DejaVu Sans Mono',consolas,'Courier New',monospace\"></pre>\n"
      ],
      "text/plain": []
     },
     "metadata": {},
     "output_type": "display_data"
    },
    {
     "data": {
      "text/html": [
       "<pre style=\"white-space:pre;overflow-x:auto;line-height:normal;font-family:Menlo,'DejaVu Sans Mono',consolas,'Courier New',monospace\"></pre>\n"
      ],
      "text/plain": []
     },
     "metadata": {},
     "output_type": "display_data"
    },
    {
     "data": {
      "text/html": [
       "<pre style=\"white-space:pre;overflow-x:auto;line-height:normal;font-family:Menlo,'DejaVu Sans Mono',consolas,'Courier New',monospace\"></pre>\n"
      ],
      "text/plain": []
     },
     "metadata": {},
     "output_type": "display_data"
    },
    {
     "data": {
      "text/html": [
       "<pre style=\"white-space:pre;overflow-x:auto;line-height:normal;font-family:Menlo,'DejaVu Sans Mono',consolas,'Courier New',monospace\"></pre>\n"
      ],
      "text/plain": []
     },
     "metadata": {},
     "output_type": "display_data"
    }
   ],
   "source": [
    "x = xbrls.statements['SegmentDisclosure'].render().to_markdown()"
   ]
  },
  {
   "cell_type": "code",
   "execution_count": 35,
   "id": "fdd2679b",
   "metadata": {},
   "outputs": [],
   "source": [
    "statement_type = 'BalanceSheet'\n",
    "statements = xbrls.statements\n",
    "stitched_statement = statements[statement_type]\n",
    "\n",
    "found_stmt_types = set()\n",
    "found_periods = xbrls.get_periods()\n",
    "for xbrl in stitched_statement.xbrls.xbrl_list:\n",
    "    statement = xbrl.get_all_statements()\n",
    "    for stmt in statement:\n",
    "        if stmt['type']:\n",
    "            found_stmt_types.add(stmt['type'])\n",
    "period_count = len(found_periods)\n",
    "assert period_count > 0 and len(found_stmt_types) > 0"
   ]
  },
  {
   "cell_type": "code",
   "execution_count": 7,
   "id": "07bd982f",
   "metadata": {},
   "outputs": [],
   "source": [
    "comprehensive_income = xbrl.statements[\"StatementOfEquity\"]"
   ]
  },
  {
   "cell_type": "code",
   "execution_count": 8,
   "id": "933d7834",
   "metadata": {},
   "outputs": [
    {
     "data": {
      "text/plain": [
       "edgar.xbrl.statements.StitchedStatement"
      ]
     },
     "execution_count": 8,
     "metadata": {},
     "output_type": "execute_result"
    }
   ],
   "source": [
    "type(comprehensive_income)"
   ]
  },
  {
   "cell_type": "code",
   "execution_count": 414,
   "id": "8f7f7312",
   "metadata": {},
   "outputs": [
    {
     "data": {
      "text/html": [
       "<pre style=\"white-space:pre;overflow-x:auto;line-height:normal;font-family:Menlo,'DejaVu Sans Mono',consolas,'Courier New',monospace\"></pre>\n"
      ],
      "text/plain": []
     },
     "metadata": {},
     "output_type": "display_data"
    },
    {
     "data": {
      "text/plain": [
       "\u001b[3m                           CONSOLIDATED INCOME STATEMENT (5-Period View) (Standardized)                            \u001b[0m\n",
       "\u001b[3m                           \u001b[0m\u001b[1;3mThree Months Ended\u001b[0m\u001b[3m \u001b[0m\u001b[3m(In millions, except shares in thousands)\u001b[0m\u001b[3m                            \u001b[0m\n",
       "                                                                                                                   \n",
       " \u001b[1m \u001b[0m\u001b[1m                                    \u001b[0m\u001b[1m \u001b[0m \u001b[1m \u001b[0m\u001b[1mMar 29, 2025\u001b[0m\u001b[1m \u001b[0m \u001b[1m \u001b[0m\u001b[1mDec 28, 2024\u001b[0m\u001b[1m \u001b[0m \u001b[1m \u001b[0m\u001b[1mJun 29, 2024\u001b[0m\u001b[1m \u001b[0m \u001b[1m \u001b[0m\u001b[1mMar 30, 2024\u001b[0m\u001b[1m \u001b[0m \u001b[1m \u001b[0m\u001b[1mDec 30, 2023\u001b[0m\u001b[1m \u001b[0m \n",
       " ───────────────────────────────────────────────────────────────────────────────────────────────────────────────── \n",
       "        Cost of sales                       $(50,492)      $(66,025)      $(46,099)      $(48,482)      $(64,720)  \n",
       "        Gross margin                          $44,867        $58,275        $39,678        $42,271        $54,855  \n",
       "        Income before provision for           $29,310        $42,584        $25,494        $28,058        $40,323  \n",
       "  income taxes                                                                                                     \n",
       "        Net Income                            $24,780        $36,330        $21,448        $23,636        $33,916  \n",
       "        Net sales                             $95,359       $124,300        $85,777        $90,753       $119,575  \n",
       "        Operating Income                      $29,589        $42,832        $25,352        $27,900        $40,373  \n",
       "        Other income/(expense), net            $(279)         $(248)           $142           $158          $(50)  \n",
       "        Provision for income taxes           $(4,530)       $(6,254)       $(4,046)       $(4,422)       $(6,407)  \n",
       "          Basic (in dollars per share)           0.00           0.00           0.00           0.00           0.00  \n",
       "          Basic (in shares)                14,994,082     15,081,724     15,287,521     15,405,856     15,509,763  \n",
       "          Diluted (in dollars per                0.00           0.00           0.00           0.00           0.00  \n",
       "  share)                                                                                                           \n",
       "          Diluted (in shares)              15,056,133     15,150,865     15,348,175     15,464,709     15,576,641  \n",
       "          Research and development             $8,550         $8,268         $8,006         $7,903         $7,696  \n",
       "          Selling, general and                 $6,728         $7,175         $6,320         $6,468         $6,786  \n",
       "  administrative                                                                                                   \n",
       "          Total operating expenses          $(15,278)      $(15,443)      $(14,326)      $(14,371)      $(14,482)  \n",
       "                                                                                                                   "
      ]
     },
     "execution_count": 414,
     "metadata": {},
     "output_type": "execute_result"
    }
   ],
   "source": [
    "xbrl.statements['IncomeStatement']"
   ]
  },
  {
   "cell_type": "code",
   "execution_count": 101,
   "id": "23606c7f",
   "metadata": {},
   "outputs": [],
   "source": [
    "filings = company.get_filings()\n",
    "# filings.get_filings(2024, [3, 4])"
   ]
  },
  {
   "cell_type": "code",
   "execution_count": 89,
   "id": "5f3f0c5a",
   "metadata": {},
   "outputs": [
    {
     "data": {
      "text/html": [
       "<pre style=\"white-space:pre;overflow-x:auto;line-height:normal;font-family:Menlo,'DejaVu Sans Mono',consolas,'Courier New',monospace\"></pre>\n"
      ],
      "text/plain": []
     },
     "metadata": {},
     "output_type": "display_data"
    },
    {
     "data": {
      "text/plain": [
       "\u001b[1;38;5;245m╭─\u001b[0m\u001b[1;38;5;245m─────────────────────────────────\u001b[0m\u001b[1;38;5;245m \u001b[0m\u001b[1;38;5;245mFilings for \u001b[0m\u001b[1;32mRocket Lab USA, Inc.\u001b[0m\u001b[1;2;38;5;245m [\u001b[0m\u001b[1;33m1819994\u001b[0m\u001b[1;2;38;5;245m]\u001b[0m\u001b[1;38;5;245m \u001b[0m\u001b[1;38;5;245m──────────────────────────────────\u001b[0m\u001b[1;38;5;245m─╮\u001b[0m\n",
       "\u001b[1;38;5;245m│\u001b[0m                                                                                                                 \u001b[1;38;5;245m│\u001b[0m\n",
       "\u001b[1;38;5;245m│\u001b[0m  \u001b[1m \u001b[0m\u001b[1m #\u001b[0m\u001b[1m \u001b[0m \u001b[1m \u001b[0m\u001b[1mForm    \u001b[0m\u001b[1m \u001b[0m \u001b[1m \u001b[0m\u001b[1mDescription                                       \u001b[0m\u001b[1m \u001b[0m \u001b[1m \u001b[0m\u001b[1mFiling Date\u001b[0m\u001b[1m \u001b[0m \u001b[1m \u001b[0m\u001b[1mAccession Number    \u001b[0m\u001b[1m \u001b[0m      \u001b[1;38;5;245m│\u001b[0m\n",
       "\u001b[1;38;5;245m│\u001b[0m  ─────────────────────────────────────────────────────────────────────────────────────────────────────────      \u001b[1;38;5;245m│\u001b[0m\n",
       "\u001b[1;38;5;245m│\u001b[0m  \u001b[2m \u001b[0m\u001b[2m 0\u001b[0m\u001b[2m \u001b[0m \u001b[1;33m \u001b[0m\u001b[1;33m10-Q    \u001b[0m\u001b[1;33m \u001b[0m \u001b[1;34m \u001b[0m\u001b[1;34mQuarterly report for public companies             \u001b[0m\u001b[1;34m \u001b[0m  2025-05-08   \u001b[2m \u001b[0m\u001b[2m0001628280-25-023857\u001b[0m\u001b[2m \u001b[0m      \u001b[1;38;5;245m│\u001b[0m\n",
       "\u001b[1;38;5;245m│\u001b[0m  \u001b[1;2m \u001b[0m\u001b[1;2m 1\u001b[0m\u001b[1;2m \u001b[0m \u001b[1;33m \u001b[0m\u001b[1;33m8-K     \u001b[0m\u001b[1;33m \u001b[0m \u001b[1;34m \u001b[0m\u001b[1;34mCurrent report                                    \u001b[0m\u001b[1;34m \u001b[0m \u001b[1m \u001b[0m\u001b[1m2025-05-08 \u001b[0m\u001b[1m \u001b[0m \u001b[1;2m \u001b[0m\u001b[1;2m0001628280-25-023816\u001b[0m\u001b[1;2m \u001b[0m      \u001b[1;38;5;245m│\u001b[0m\n",
       "\u001b[1;38;5;245m│\u001b[0m  \u001b[2m \u001b[0m\u001b[2m 2\u001b[0m\u001b[2m \u001b[0m \u001b[1;33m \u001b[0m\u001b[1;33m10-K/A  \u001b[0m\u001b[1;33m \u001b[0m \u001b[1;34m \u001b[0m\u001b[1;34mAnnual report for public companies                \u001b[0m\u001b[1;34m \u001b[0m  2025-04-30   \u001b[2m \u001b[0m\u001b[2m0001628280-25-021054\u001b[0m\u001b[2m \u001b[0m      \u001b[1;38;5;245m│\u001b[0m\n",
       "\u001b[1;38;5;245m│\u001b[0m  \u001b[1;2m \u001b[0m\u001b[1;2m 3\u001b[0m\u001b[1;2m \u001b[0m \u001b[1;33m \u001b[0m\u001b[1;33mSCHEDULE\u001b[0m\u001b[1;33m \u001b[0m \u001b[1;34m \u001b[0m\u001b[1;34mBeneficial ownership by passive                   \u001b[0m\u001b[1;34m \u001b[0m \u001b[1m \u001b[0m\u001b[1m2025-04-30 \u001b[0m\u001b[1m \u001b[0m \u001b[1;2m \u001b[0m\u001b[1;2m0000932471-25-000611\u001b[0m\u001b[1;2m \u001b[0m      \u001b[1;38;5;245m│\u001b[0m\n",
       "\u001b[1;38;5;245m│\u001b[0m  \u001b[1;2m    \u001b[0m \u001b[1;33m \u001b[0m\u001b[1;33m13G/A   \u001b[0m\u001b[1;33m \u001b[0m \u001b[1;34m \u001b[0m\u001b[1;34minvestors/institutions                            \u001b[0m\u001b[1;34m \u001b[0m \u001b[1m             \u001b[0m \u001b[1;2m                      \u001b[0m      \u001b[1;38;5;245m│\u001b[0m\n",
       "\u001b[1;38;5;245m│\u001b[0m  \u001b[2m \u001b[0m\u001b[2m 4\u001b[0m\u001b[2m \u001b[0m \u001b[1;33m \u001b[0m\u001b[1;33m4       \u001b[0m\u001b[1;33m \u001b[0m \u001b[1;34m \u001b[0m\u001b[1;34mStatement of changes in beneficial ownership      \u001b[0m\u001b[1;34m \u001b[0m  2025-03-18   \u001b[2m \u001b[0m\u001b[2m0000950170-25-041670\u001b[0m\u001b[2m \u001b[0m      \u001b[1;38;5;245m│\u001b[0m\n",
       "\u001b[1;38;5;245m│\u001b[0m  \u001b[1;2m \u001b[0m\u001b[1;2m 5\u001b[0m\u001b[1;2m \u001b[0m \u001b[1;33m \u001b[0m\u001b[1;33m4       \u001b[0m\u001b[1;33m \u001b[0m \u001b[1;34m \u001b[0m\u001b[1;34mStatement of changes in beneficial ownership      \u001b[0m\u001b[1;34m \u001b[0m \u001b[1m \u001b[0m\u001b[1m2025-03-18 \u001b[0m\u001b[1m \u001b[0m \u001b[1;2m \u001b[0m\u001b[1;2m0000950170-25-041663\u001b[0m\u001b[1;2m \u001b[0m      \u001b[1;38;5;245m│\u001b[0m\n",
       "\u001b[1;38;5;245m│\u001b[0m  \u001b[2m \u001b[0m\u001b[2m 6\u001b[0m\u001b[2m \u001b[0m \u001b[1;33m \u001b[0m\u001b[1;33m4       \u001b[0m\u001b[1;33m \u001b[0m \u001b[1;34m \u001b[0m\u001b[1;34mStatement of changes in beneficial ownership      \u001b[0m\u001b[1;34m \u001b[0m  2025-03-18   \u001b[2m \u001b[0m\u001b[2m0000950170-25-041662\u001b[0m\u001b[2m \u001b[0m      \u001b[1;38;5;245m│\u001b[0m\n",
       "\u001b[1;38;5;245m│\u001b[0m  \u001b[1;2m \u001b[0m\u001b[1;2m 7\u001b[0m\u001b[1;2m \u001b[0m \u001b[1;33m \u001b[0m\u001b[1;33m144     \u001b[0m\u001b[1;33m \u001b[0m \u001b[1;34m \u001b[0m\u001b[1;34mNotice of proposed sale                           \u001b[0m\u001b[1;34m \u001b[0m \u001b[1m \u001b[0m\u001b[1m2025-03-17 \u001b[0m\u001b[1m \u001b[0m \u001b[1;2m \u001b[0m\u001b[1;2m0001950047-25-001975\u001b[0m\u001b[1;2m \u001b[0m      \u001b[1;38;5;245m│\u001b[0m\n",
       "\u001b[1;38;5;245m│\u001b[0m  \u001b[2m \u001b[0m\u001b[2m 8\u001b[0m\u001b[2m \u001b[0m \u001b[1;33m \u001b[0m\u001b[1;33m144     \u001b[0m\u001b[1;33m \u001b[0m \u001b[1;34m \u001b[0m\u001b[1;34mNotice of proposed sale                           \u001b[0m\u001b[1;34m \u001b[0m  2025-03-17   \u001b[2m \u001b[0m\u001b[2m0001950047-25-001971\u001b[0m\u001b[2m \u001b[0m      \u001b[1;38;5;245m│\u001b[0m\n",
       "\u001b[1;38;5;245m│\u001b[0m  \u001b[1;2m \u001b[0m\u001b[1;2m 9\u001b[0m\u001b[1;2m \u001b[0m \u001b[1;33m \u001b[0m\u001b[1;33m144     \u001b[0m\u001b[1;33m \u001b[0m \u001b[1;34m \u001b[0m\u001b[1;34mNotice of proposed sale                           \u001b[0m\u001b[1;34m \u001b[0m \u001b[1m \u001b[0m\u001b[1m2025-03-14 \u001b[0m\u001b[1m \u001b[0m \u001b[1;2m \u001b[0m\u001b[1;2m0002001011-25-000020\u001b[0m\u001b[1;2m \u001b[0m      \u001b[1;38;5;245m│\u001b[0m\n",
       "\u001b[1;38;5;245m│\u001b[0m  \u001b[2m \u001b[0m\u001b[2m10\u001b[0m\u001b[2m \u001b[0m \u001b[1;33m \u001b[0m\u001b[1;33m144     \u001b[0m\u001b[1;33m \u001b[0m \u001b[1;34m \u001b[0m\u001b[1;34mNotice of proposed sale                           \u001b[0m\u001b[1;34m \u001b[0m  2025-03-14   \u001b[2m \u001b[0m\u001b[2m0002001011-25-000019\u001b[0m\u001b[2m \u001b[0m      \u001b[1;38;5;245m│\u001b[0m\n",
       "\u001b[1;38;5;245m│\u001b[0m  \u001b[1;2m \u001b[0m\u001b[1;2m11\u001b[0m\u001b[1;2m \u001b[0m \u001b[1;33m \u001b[0m\u001b[1;33m144     \u001b[0m\u001b[1;33m \u001b[0m \u001b[1;34m \u001b[0m\u001b[1;34mNotice of proposed sale                           \u001b[0m\u001b[1;34m \u001b[0m \u001b[1m \u001b[0m\u001b[1m2025-03-14 \u001b[0m\u001b[1m \u001b[0m \u001b[1;2m \u001b[0m\u001b[1;2m0002001011-25-000017\u001b[0m\u001b[1;2m \u001b[0m      \u001b[1;38;5;245m│\u001b[0m\n",
       "\u001b[1;38;5;245m│\u001b[0m  \u001b[2m \u001b[0m\u001b[2m12\u001b[0m\u001b[2m \u001b[0m \u001b[1;33m \u001b[0m\u001b[1;33m8-K     \u001b[0m\u001b[1;33m \u001b[0m \u001b[1;34m \u001b[0m\u001b[1;34mCurrent report                                    \u001b[0m\u001b[1;34m \u001b[0m  2025-03-11   \u001b[2m \u001b[0m\u001b[2m0001193125-25-052062\u001b[0m\u001b[2m \u001b[0m      \u001b[1;38;5;245m│\u001b[0m\n",
       "\u001b[1;38;5;245m│\u001b[0m  \u001b[1;2m \u001b[0m\u001b[1;2m13\u001b[0m\u001b[1;2m \u001b[0m \u001b[1;33m \u001b[0m\u001b[1;33m424B5   \u001b[0m\u001b[1;33m \u001b[0m \u001b[1;34m \u001b[0m\u001b[1;34mSupplement to primary offering                    \u001b[0m\u001b[1;34m \u001b[0m \u001b[1m \u001b[0m\u001b[1m2025-03-11 \u001b[0m\u001b[1m \u001b[0m \u001b[1;2m \u001b[0m\u001b[1;2m0001193125-25-052055\u001b[0m\u001b[1;2m \u001b[0m      \u001b[1;38;5;245m│\u001b[0m\n",
       "\u001b[1;38;5;245m│\u001b[0m  \u001b[2m \u001b[0m\u001b[2m14\u001b[0m\u001b[2m \u001b[0m \u001b[1;33m \u001b[0m\u001b[1;33mS-3ASR  \u001b[0m\u001b[1;33m \u001b[0m \u001b[1;34m \u001b[0m\u001b[1;34mAutomatic shelf registration                      \u001b[0m\u001b[1;34m \u001b[0m  2025-03-11   \u001b[2m \u001b[0m\u001b[2m0001193125-25-051927\u001b[0m\u001b[2m \u001b[0m      \u001b[1;38;5;245m│\u001b[0m\n",
       "\u001b[1;38;5;245m│\u001b[0m                                                                                                                 \u001b[1;38;5;245m│\u001b[0m\n",
       "\u001b[1;38;5;245m╰─\u001b[0m\u001b[1;38;5;245m──────────────────────────────\u001b[0m\u001b[1;38;5;245m Company filings between 2025-03-11 and 2025-05-08 \u001b[0m\u001b[1;38;5;245m──────────────────────────────\u001b[0m\u001b[1;38;5;245m─╯\u001b[0m"
      ]
     },
     "execution_count": 89,
     "metadata": {},
     "output_type": "execute_result"
    }
   ],
   "source": [
    "company.get_filings().filter(date=\"2025-03-01:\")"
   ]
  },
  {
   "cell_type": "code",
   "execution_count": 81,
   "id": "898afdeb",
   "metadata": {},
   "outputs": [
    {
     "data": {
      "text/plain": [
       "(datetime.date(2020, 9, 24), datetime.date(2025, 3, 18))"
      ]
     },
     "execution_count": 81,
     "metadata": {},
     "output_type": "execute_result"
    }
   ],
   "source": [
    "import datetime\n",
    "company_insider_filings = company.get_filings(form=[3,4,5])\n",
    "company_insider_filings.filter"
   ]
  },
  {
   "cell_type": "code",
   "execution_count": 71,
   "id": "5361c167",
   "metadata": {},
   "outputs": [
    {
     "data": {
      "text/html": [
       "<pre style=\"white-space:pre;overflow-x:auto;line-height:normal;font-family:Menlo,'DejaVu Sans Mono',consolas,'Courier New',monospace\"></pre>\n"
      ],
      "text/plain": []
     },
     "metadata": {},
     "output_type": "display_data"
    },
    {
     "name": "stdout",
     "output_type": "stream",
     "text": [
      "╭────────────────────────── \u001b[1mOwnership Transactions (Sale) \u001b[0m ───────────────────────────╮\n",
      "│ \u001b[1;34mInsider: \u001b[0m\u001b[1;34m \u001b[0mFrank Klein                                                               │\n",
      "│ \u001b[1;34mPosition:\u001b[0m\u001b[1;34m \u001b[0mChief Operations Officer                                                  │\n",
      "│ \u001b[1;34mCompany: \u001b[0m\u001b[1;34m \u001b[0mRocket Lab USA, Inc. (RKLB)                                               │\n",
      "│ \u001b[1;34mDate:    \u001b[0m\u001b[1;34m \u001b[0m2025-03-14                                                                │\n",
      "│ \u001b[1;34mForm:    \u001b[0m\u001b[1;34m \u001b[0mForm 4                                                                    │\n",
      "│ \u001b[1m                             Common Stock Transactions                             \u001b[0m │\n",
      "│                                                                                     │\n",
      "│  \u001b[1m \u001b[0m\u001b[1mType          \u001b[0m\u001b[1m \u001b[0m \u001b[1m \u001b[0m\u001b[1mCode\u001b[0m\u001b[1m \u001b[0m \u001b[1m \u001b[0m\u001b[1mDescription     \u001b[0m\u001b[1m \u001b[0m \u001b[1m \u001b[0m\u001b[1m Shares\u001b[0m\u001b[1m \u001b[0m \u001b[1m \u001b[0m\u001b[1mPrice/Share\u001b[0m\u001b[1m \u001b[0m \u001b[1m \u001b[0m\u001b[1m       Value\u001b[0m\u001b[1m \u001b[0m  │\n",
      "│  ─────────────────────────────────────────────────────────────────────────────────  │\n",
      "│  \u001b[1m \u001b[0m\u001b[1;31mSALE          \u001b[0m\u001b[1m \u001b[0m   S    \u001b[3m \u001b[0m\u001b[3mOpen Market Sale\u001b[0m\u001b[3m \u001b[0m   44,553        $18.18    $810,035.91   │\n",
      "│  \u001b[1m \u001b[0m\u001b[1;31mSALE          \u001b[0m\u001b[1m \u001b[0m   S    \u001b[3m \u001b[0m\u001b[3mOpen Market Sale\u001b[0m\u001b[3m \u001b[0m    1,835        $19.93     $36,571.55   │\n",
      "│  \u001b[1m \u001b[0m\u001b[1;31mNET CHANGE    \u001b[0m\u001b[1m \u001b[0m        \u001b[3m \u001b[0m\u001b[3m                \u001b[0m\u001b[3m \u001b[0m  \u001b[1;31m-46,388\u001b[0m                 \u001b[1;31m$-846,607.46\u001b[0m   │\n",
      "│  \u001b[1m \u001b[0m\u001b[1;2;31mAVG SELL PRICE\u001b[0m\u001b[1m \u001b[0m        \u001b[3m \u001b[0m\u001b[3m                \u001b[0m\u001b[3m \u001b[0m            \u001b[31m     $18.25\u001b[0m                  │\n",
      "│                                                                                     │\n",
      "│ \u001b[1mREMAINING POSITION:\u001b[0m\u001b[1m \u001b[0m1,417,644 shares                                                │\n",
      "╰─────────────────────────────────────────────────────────────────────────────────────╯\n",
      "\n",
      "rklb_insider_filings[0] type: <class 'edgar.entity.filings.EntityFiling'>\n",
      "rklb_insider_filings[0].obj() type: <class 'edgar.ownership.ownershipforms.Form4'>\n"
     ]
    }
   ],
   "source": [
    "company_insider_filings = company.get_filings(form=[3,4,5])\n",
    "company_insider_filings[0].obj() # prints additional information (basically renders the form)\n",
    "# These two produce the same output\n",
    "print(company_insider_filings[0].obj())\n",
    "# console.print(rklb_insider_filings[0].obj().get_ownership_summary())\n",
    "\n",
    "print(f\"rklb_insider_filings[0] type: {type(company_insider_filings[0])}\")\n",
    "print(f\"rklb_insider_filings[0].obj() type: {type(company_insider_filings[0].obj())}\")"
   ]
  },
  {
   "cell_type": "code",
   "execution_count": null,
   "id": "e45d61e8",
   "metadata": {},
   "outputs": [],
   "source": []
  },
  {
   "cell_type": "code",
   "execution_count": 43,
   "id": "c7e83bc4",
   "metadata": {},
   "outputs": [],
   "source": [
    "rklb_filings = rklb.get_filings() # get all filings\n",
    "# rklb_filings[0].open() # opens browser to the filing\n",
    "rklb_10q = rklb.get_filings(form='10-Q') \n",
    "\n",
    "# rklb_filings.data # pyarrow table of filings"
   ]
  },
  {
   "cell_type": "code",
   "execution_count": 72,
   "id": "871109cd",
   "metadata": {},
   "outputs": [
    {
     "data": {
      "text/plain": [
       "'0001628280-25-023857'"
      ]
     },
     "execution_count": 72,
     "metadata": {},
     "output_type": "execute_result"
    }
   ],
   "source": [
    "rklb_10q[0].accession_number"
   ]
  },
  {
   "cell_type": "code",
   "execution_count": 87,
   "id": "56858b74",
   "metadata": {},
   "outputs": [
    {
     "data": {
      "text/html": [
       "<pre style=\"white-space:pre;overflow-x:auto;line-height:normal;font-family:Menlo,'DejaVu Sans Mono',consolas,'Courier New',monospace\">OMB APPROVAL \n",
       " OMB Number: 3235-0287 \n",
       " Estimated average burden \n",
       " hours per response: 0.5\n",
       "\n",
       "FORM 3\n",
       "\n",
       "Check this box if no longer subject to Section 16. Form 4 or Form 5 obligations may continue. See Instruction 1(b).\n",
       "\n",
       "UNITED STATES SECURITIES AND EXCHANGE COMMISSION \n",
       " Washington, D.C. 20549\n",
       "\n",
       "INITIAL STATEMENT OF BENEFICIAL OWNERSHIP OF SECURITIES\n",
       "\n",
       "Filed pursuant to Section 16(a) of the Securities Exchange Act of 1934 \n",
       " or Section 30(h) of the Investment Company Act of 1940\n",
       "<span style=\"color: #000080; text-decoration-color: #000080\">                                                                                                                   </span>\n",
       "<span style=\"color: #000080; text-decoration-color: #000080\"> </span>                                                        <span style=\"color: #000080; text-decoration-color: #000080\"> </span>2. Issuer Name and Ticker or Trading Symbol             <span style=\"color: #000080; text-decoration-color: #000080\"> </span>\n",
       "<span style=\"color: #000080; text-decoration-color: #000080\"> </span> 1. Name and Address of Reporting Person*               <span style=\"color: #000080; text-decoration-color: #000080\"> </span>Rocket Lab USA, Inc. [RKLB]                             <span style=\"color: #000080; text-decoration-color: #000080\"> </span>\n",
       "<span style=\"color: #000080; text-decoration-color: #000080\"> </span> Edward H. FrankC/O ROCKET LAB USA, INC.3881 MCGOWEN    <span style=\"color: #000080; text-decoration-color: #000080\"> </span>3. Date of Earliest Transaction (Month/Day/Year)        <span style=\"color: #000080; text-decoration-color: #000080\"> </span>\n",
       "<span style=\"color: #000080; text-decoration-color: #000080\"> </span> STREETLONG BEACH CA 90808                              <span style=\"color: #000080; text-decoration-color: #000080\"> </span>09/02/2022                                              <span style=\"color: #000080; text-decoration-color: #000080\"> </span>\n",
       "<span style=\"color: #000080; text-decoration-color: #000080\"> </span> 1a. IRS/SSN Identification Number of Reporting Person  <span style=\"color: #000080; text-decoration-color: #000080\"> </span>4. If Amendment, Date of Original Filed                 <span style=\"color: #000080; text-decoration-color: #000080\"> </span>\n",
       "<span style=\"color: #000080; text-decoration-color: #000080\"> </span>                                                        <span style=\"color: #000080; text-decoration-color: #000080\"> </span>(Month/Day/Year)                                        <span style=\"color: #000080; text-decoration-color: #000080\"> </span>\n",
       "<span style=\"color: #000080; text-decoration-color: #000080\"> </span><span style=\"color: #8a8a8a; text-decoration-color: #8a8a8a\">                                                        </span><span style=\"color: #000080; text-decoration-color: #000080\"> </span><span style=\"color: #8a8a8a; text-decoration-color: #8a8a8a\">XDirectorOfficer (give title below)10% OwnerOther       </span><span style=\"color: #000080; text-decoration-color: #000080\"> </span>\n",
       "<span style=\"color: #000080; text-decoration-color: #000080\"> </span><span style=\"color: #8a8a8a; text-decoration-color: #8a8a8a\">                                                        </span><span style=\"color: #000080; text-decoration-color: #000080\"> </span><span style=\"color: #8a8a8a; text-decoration-color: #8a8a8a\">(specify below)                                         </span><span style=\"color: #000080; text-decoration-color: #000080\"> </span>\n",
       "<span style=\"color: #000080; text-decoration-color: #000080\"> </span>                                                        <span style=\"color: #000080; text-decoration-color: #000080\"> </span>Form filed by One Reporting PersonForm filed by More    <span style=\"color: #000080; text-decoration-color: #000080\"> </span>\n",
       "<span style=\"color: #000080; text-decoration-color: #000080\"> </span>                                                        <span style=\"color: #000080; text-decoration-color: #000080\"> </span>than One Reporting Person                               <span style=\"color: #000080; text-decoration-color: #000080\"> </span>\n",
       "<span style=\"color: #000080; text-decoration-color: #000080\">                                                                                                                   </span>\n",
       "Remarks:\n",
       "\n",
       "Exhibit 24 - Power of Attorney\n",
       "<span style=\"color: #000080; text-decoration-color: #000080\">                                                </span>\n",
       "<span style=\"color: #000080; text-decoration-color: #000080\"> </span> ** Signature of Reporting Person <span style=\"color: #000080; text-decoration-color: #000080\"> </span>Date       <span style=\"color: #000080; text-decoration-color: #000080\"> </span>\n",
       "<span style=\"color: #000080; text-decoration-color: #000080\"> </span> /s/ /s/ Edward H Frank           <span style=\"color: #000080; text-decoration-color: #000080\"> </span>09/07/2022 <span style=\"color: #000080; text-decoration-color: #000080\"> </span>\n",
       "<span style=\"color: #000080; text-decoration-color: #000080\">                                                </span>\n",
       "Note: File three copies of this Form, one of which must be manually signed. If space is insufficient, see\n",
       "Instruction 6 for procedure.\n",
       " Persons who respond to the collection of information contained in this form are not required to respond unless the\n",
       "form displays a currently valid OMB Number.\n",
       "</pre>\n"
      ],
      "text/plain": [
       "OMB APPROVAL \n",
       " OMB Number: 3235-0287 \n",
       " Estimated average burden \n",
       " hours per response: 0.5\n",
       "\n",
       "FORM 3\n",
       "\n",
       "Check this box if no longer subject to Section 16. Form 4 or Form 5 obligations may continue. See Instruction 1(b).\n",
       "\n",
       "UNITED STATES SECURITIES AND EXCHANGE COMMISSION \n",
       " Washington, D.C. 20549\n",
       "\n",
       "INITIAL STATEMENT OF BENEFICIAL OWNERSHIP OF SECURITIES\n",
       "\n",
       "Filed pursuant to Section 16(a) of the Securities Exchange Act of 1934 \n",
       " or Section 30(h) of the Investment Company Act of 1940\n",
       "\u001b[34m                                                                                                                   \u001b[0m\n",
       "\u001b[34m \u001b[0m                                                        \u001b[34m \u001b[0m2. Issuer Name and Ticker or Trading Symbol             \u001b[34m \u001b[0m\n",
       "\u001b[34m \u001b[0m 1. Name and Address of Reporting Person*               \u001b[34m \u001b[0mRocket Lab USA, Inc. [RKLB]                             \u001b[34m \u001b[0m\n",
       "\u001b[34m \u001b[0m Edward H. FrankC/O ROCKET LAB USA, INC.3881 MCGOWEN    \u001b[34m \u001b[0m3. Date of Earliest Transaction (Month/Day/Year)        \u001b[34m \u001b[0m\n",
       "\u001b[34m \u001b[0m STREETLONG BEACH CA 90808                              \u001b[34m \u001b[0m09/02/2022                                              \u001b[34m \u001b[0m\n",
       "\u001b[34m \u001b[0m 1a. IRS/SSN Identification Number of Reporting Person  \u001b[34m \u001b[0m4. If Amendment, Date of Original Filed                 \u001b[34m \u001b[0m\n",
       "\u001b[34m \u001b[0m                                                        \u001b[34m \u001b[0m(Month/Day/Year)                                        \u001b[34m \u001b[0m\n",
       "\u001b[34m \u001b[0m\u001b[38;5;245m \u001b[0m\u001b[38;5;245m                                                      \u001b[0m\u001b[38;5;245m \u001b[0m\u001b[34m \u001b[0m\u001b[38;5;245mXDirectorOfficer (give title below)10% OwnerOther      \u001b[0m\u001b[38;5;245m \u001b[0m\u001b[34m \u001b[0m\n",
       "\u001b[34m \u001b[0m\u001b[38;5;245m                                                        \u001b[0m\u001b[34m \u001b[0m\u001b[38;5;245m(specify below)                                        \u001b[0m\u001b[38;5;245m \u001b[0m\u001b[34m \u001b[0m\n",
       "\u001b[34m \u001b[0m                                                        \u001b[34m \u001b[0mForm filed by One Reporting PersonForm filed by More    \u001b[34m \u001b[0m\n",
       "\u001b[34m \u001b[0m                                                        \u001b[34m \u001b[0mthan One Reporting Person                               \u001b[34m \u001b[0m\n",
       "\u001b[34m                                                                                                                   \u001b[0m\n",
       "Remarks:\n",
       "\n",
       "Exhibit 24 - Power of Attorney\n",
       "\u001b[34m                                                \u001b[0m\n",
       "\u001b[34m \u001b[0m ** Signature of Reporting Person \u001b[34m \u001b[0mDate       \u001b[34m \u001b[0m\n",
       "\u001b[34m \u001b[0m /s/ /s/ Edward H Frank           \u001b[34m \u001b[0m09/07/2022 \u001b[34m \u001b[0m\n",
       "\u001b[34m                                                \u001b[0m\n",
       "Note: File three copies of this Form, one of which must be manually signed. If space is insufficient, see\n",
       "Instruction 6 for procedure.\n",
       " Persons who respond to the collection of information contained in this form are not required to respond unless the\n",
       "form displays a currently valid OMB Number.\n"
      ]
     },
     "metadata": {},
     "output_type": "display_data"
    }
   ],
   "source": [
    "rklb.get_filings(form='3')[3].view()"
   ]
  },
  {
   "cell_type": "markdown",
   "id": "41a8243d",
   "metadata": {},
   "source": [
    "# Facts Metadata"
   ]
  },
  {
   "cell_type": "code",
   "execution_count": 61,
   "id": "3f8f6ec6",
   "metadata": {},
   "outputs": [],
   "source": [
    "rklb_facts = rklb.get_facts()\n",
    "rklb_facts_df = rklb_facts.to_pandas() # converts pyarrow table to pandas df\n",
    "\n",
    "## Gets metadata about the facts including fact description\n",
    "unique_desc = rklb_facts.fact_meta['description'].value_counts()\n",
    "# for desc in unique_desc[:3]:\n",
    "#     print(desc)"
   ]
  },
  {
   "cell_type": "code",
   "execution_count": 62,
   "id": "1b36e3c0",
   "metadata": {},
   "outputs": [
    {
     "data": {
      "text/plain": [
       "description\n",
       "Indicate number of shares or other units outstanding of each of registrant's classes of capital or common stock or other ownership interests, if and as stated on cover of related periodic report. Where multiple classes or units exist define each class/interest by adding class of stock items such as Common Class A [Member], Common Class B [Member] or Partnership Interest [Member] onto the Instrument [Domain] of the Entity Listings, Instrument.    1\n",
       "Present value of lessee's discounted obligation for lease payments from operating lease.                                                                                                                                                                                                                                                                                                                                                                          1\n",
       "Number of options or other stock instruments for which the right to exercise has lapsed under the terms of the plan agreements.                                                                                                                                                                                                                                                                                                                                   1\n",
       "Amount of accumulated difference between fair value of underlying shares on dates of exercise and exercise price on options exercised (or share units converted) into shares.                                                                                                                                                                                                                                                                                     1\n",
       "The estimated dividend rate (a percentage of the share price) to be paid (expected dividends) to holders of the underlying shares over the option's term.                                                                                                                                                                                                                                                                                                         1\n",
       "                                                                                                                                                                                                                                                                                                                                                                                                                                                                 ..\n",
       "Amount of income (expense) related to nonoperating activities, classified as other.                                                                                                                                                                                                                                                                                                                                                                               1\n",
       "Amount of liabilities classified as other, due after one year or the normal operating cycle, if longer.                                                                                                                                                                                                                                                                                                                                                           1\n",
       "Amount of liabilities classified as other, due within one year or the normal operating cycle, if longer.                                                                                                                                                                                                                                                                                                                                                          1\n",
       "Amount after tax of other comprehensive income (loss) attributable to parent entity.                                                                                                                                                                                                                                                                                                                                                                              1\n",
       "Amount allocated to previously issued common shares repurchased by the issuing entity and held in treasury.                                                                                                                                                                                                                                                                                                                                                       1\n",
       "Name: count, Length: 368, dtype: int64"
      ]
     },
     "execution_count": 62,
     "metadata": {},
     "output_type": "execute_result"
    }
   ],
   "source": [
    "unique_desc"
   ]
  },
  {
   "cell_type": "markdown",
   "id": "cc2a0399",
   "metadata": {},
   "source": [
    "# Attachments in a filing"
   ]
  },
  {
   "cell_type": "code",
   "execution_count": null,
   "id": "9f953956",
   "metadata": {},
   "outputs": [],
   "source": [
    "# Attachments\n",
    "## Get the attachments for the first 10q filing\n",
    "rklb_10q[0].attachments\n",
    "\n",
    "## Prints the actual text of the attachment 10q\n",
    "# text = rklb_10q[0].attachments[1].text()\n",
    "\n",
    "## Atleast for the 10q attachments, I cant find anything useful\n",
    "# rklb_10q[0].attachments[84].download('.') # download the attachment"
   ]
  },
  {
   "cell_type": "markdown",
   "id": "9060cf74",
   "metadata": {},
   "source": [
    "# Financials\n"
   ]
  },
  {
   "cell_type": "markdown",
   "id": "f7204e7e",
   "metadata": {},
   "source": [
    "Some functionality is deprecated, should use XBRLs instead of i.e. MultiFinancials(filings)"
   ]
  },
  {
   "cell_type": "code",
   "execution_count": null,
   "id": "d8eb8f0e",
   "metadata": {},
   "outputs": [],
   "source": [
    "rklb_financials = rklb.get_financials()"
   ]
  },
  {
   "cell_type": "code",
   "execution_count": null,
   "id": "3d4ab8da",
   "metadata": {},
   "outputs": [],
   "source": [
    "# Income Statement\n",
    "rklb_balance_sheet = rklb_financials.balance_sheet()\n",
    "rklb_balance_sheet = rklb_balance_sheet.to_dataframe()\n",
    "\n",
    "rklb_cash_flow = rklb_financials.cashflow_statement()\n",
    "rklb_cash_flow = rklb_cash_flow.to_dataframe()\n",
    "\n",
    "rklb_income_statement = rklb_financials.income_statement()\n",
    "rklb_income_statement = rklb_income_statement.to_dataframe()"
   ]
  },
  {
   "cell_type": "code",
   "execution_count": null,
   "id": "0c65ec8d",
   "metadata": {},
   "outputs": [],
   "source": [
    "from edgar.xbrl.xbrl import XBRL\n",
    "from edgar.xbrl import XBRLS\n",
    "\n",
    "filing = rklb.latest(\"10-K\")\n",
    "xbrl = XBRL.from_filing(filing)\n",
    "rklb_income_statement = xbrl.statements.income_statement()"
   ]
  },
  {
   "cell_type": "code",
   "execution_count": null,
   "id": "15e78254",
   "metadata": {},
   "outputs": [],
   "source": [
    "filings = rklb.latest(\"10-K\", 5)\n",
    "xbrls = XBRLS.from_filings(filings)\n",
    "stitched_statements = xbrls.statements\n",
    "\n",
    "stitched_statements"
   ]
  },
  {
   "cell_type": "code",
   "execution_count": null,
   "id": "27a5436a",
   "metadata": {},
   "outputs": [],
   "source": [
    "balance_sheet = stitched_statements.balance_sheet()\n",
    "income_statement = stitched_statements.income_statement()\n",
    "cash_flow = stitched_statements.cashflow_statement()\n",
    "statement_of_equity = stitched_statements.statement_of_equity()\n",
    "\n",
    "# You can also access by type\n",
    "comprehensive_income = stitched_statements[\"ComprehensiveIncome\"]\n",
    "\n",
    "# income_statement.to_dataframe() # converts to pandas df"
   ]
  },
  {
   "cell_type": "code",
   "execution_count": null,
   "id": "c52a126e",
   "metadata": {},
   "outputs": [],
   "source": [
    "income_trend = stitched_statements.income_statement(max_periods=3)"
   ]
  },
  {
   "cell_type": "code",
   "execution_count": null,
   "id": "e1694df1",
   "metadata": {
    "lines_to_end_of_cell_marker": 2
   },
   "outputs": [],
   "source": [
    "from rich.console import Console\n",
    "console = Console()\n",
    "console.print(stitched_statements.balance_sheet())"
   ]
  },
  {
   "cell_type": "markdown",
   "id": "bcd1c719",
   "metadata": {},
   "source": [
    "# Insider Trading"
   ]
  },
  {
   "cell_type": "markdown",
   "id": "a7f659f7",
   "metadata": {},
   "source": [
    "- Form 3: Filed by insiders to report their initial ownership of company stock - typically filed when an insider joins a company or becomes an officer or director.\n",
    "- Form 4: Filed to report any changes in ownership of company stock - typically filed when an insider buys or sells company stock.\n",
    "- Form 5: Includes any transactions that were not reported on Form 4 - typically filed at the end of the fiscal year.\n",
    "\n",
    "NOTE: A \"filing\" is returned as an `edgar.entity.filings.EntityFiling` object. We have to use `.obj()` to convert it get something useful like form4 `edgar.ownership.ownershipforms.Form4`"
   ]
  },
  {
   "cell_type": "code",
   "execution_count": null,
   "id": "203feaa2",
   "metadata": {},
   "outputs": [],
   "source": [
    "rklb_insider_filings = rklb.get_filings(form=[3,4,5])"
   ]
  },
  {
   "cell_type": "code",
   "execution_count": null,
   "id": "51d9c6ee",
   "metadata": {},
   "outputs": [],
   "source": [
    "rklb_insider_filings[0].obj() # prints additional information (basically renders the form)"
   ]
  },
  {
   "cell_type": "code",
   "execution_count": null,
   "id": "372f7504",
   "metadata": {
    "lines_to_next_cell": 0
   },
   "outputs": [],
   "source": [
    "# These two produce the same output\n",
    "console.print(rklb_insider_filings[0].obj())\n",
    "# console.print(rklb_insider_filings[0].obj().get_ownership_summary())\n",
    "\n",
    "console.print(f\"rklb_insider_filings[0] type: {type(rklb_insider_filings[0])}\")\n",
    "console.print(f\"rklb_insider_filings[0].obj() type: {type(rklb_insider_filings[0].obj())}\")"
   ]
  },
  {
   "cell_type": "code",
   "execution_count": null,
   "id": "730fec0c",
   "metadata": {},
   "outputs": [],
   "source": []
  }
 ],
 "metadata": {
  "kernelspec": {
   "display_name": ".venv",
   "language": "python",
   "name": "python3"
  },
  "language_info": {
   "codemirror_mode": {
    "name": "ipython",
    "version": 3
   },
   "file_extension": ".py",
   "mimetype": "text/x-python",
   "name": "python",
   "nbconvert_exporter": "python",
   "pygments_lexer": "ipython3",
   "version": "3.13.3"
  }
 },
 "nbformat": 4,
 "nbformat_minor": 5
}
